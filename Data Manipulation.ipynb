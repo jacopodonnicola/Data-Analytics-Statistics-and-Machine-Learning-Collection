{
 "cells": [
  {
   "cell_type": "markdown",
   "id": "9ab2ff47",
   "metadata": {},
   "source": [
    "# Limpieza de datos y manejo de valores faltantes."
   ]
  },
  {
   "cell_type": "code",
   "execution_count": 700,
   "id": "4680bfd3",
   "metadata": {},
   "outputs": [],
   "source": [
    "import pandas as pd "
   ]
  },
  {
   "cell_type": "code",
   "execution_count": 701,
   "id": "1e7b391d",
   "metadata": {},
   "outputs": [],
   "source": [
    "data = pd.read_csv('/Users/jacodon/Documents/Data_Analysis/Python/Data_Science_Excercises/iris.csv')"
   ]
  },
  {
   "cell_type": "code",
   "execution_count": 702,
   "id": "bec8f822",
   "metadata": {
    "scrolled": false
   },
   "outputs": [
    {
     "data": {
      "text/html": [
       "<div>\n",
       "<style scoped>\n",
       "    .dataframe tbody tr th:only-of-type {\n",
       "        vertical-align: middle;\n",
       "    }\n",
       "\n",
       "    .dataframe tbody tr th {\n",
       "        vertical-align: top;\n",
       "    }\n",
       "\n",
       "    .dataframe thead th {\n",
       "        text-align: right;\n",
       "    }\n",
       "</style>\n",
       "<table border=\"1\" class=\"dataframe\">\n",
       "  <thead>\n",
       "    <tr style=\"text-align: right;\">\n",
       "      <th></th>\n",
       "      <th>Id</th>\n",
       "      <th>SepalLengthCm</th>\n",
       "      <th>SepalWidthCm</th>\n",
       "      <th>PetalLengthCm</th>\n",
       "      <th>PetalWidthCm</th>\n",
       "      <th>Species</th>\n",
       "    </tr>\n",
       "  </thead>\n",
       "  <tbody>\n",
       "    <tr>\n",
       "      <th>0</th>\n",
       "      <td>1</td>\n",
       "      <td>5.1</td>\n",
       "      <td>3.5</td>\n",
       "      <td>1.4</td>\n",
       "      <td>0.2</td>\n",
       "      <td>Iris-setosa</td>\n",
       "    </tr>\n",
       "    <tr>\n",
       "      <th>1</th>\n",
       "      <td>2</td>\n",
       "      <td>4.9</td>\n",
       "      <td>3.0</td>\n",
       "      <td>1.4</td>\n",
       "      <td>0.2</td>\n",
       "      <td>Iris-setosa</td>\n",
       "    </tr>\n",
       "    <tr>\n",
       "      <th>2</th>\n",
       "      <td>3</td>\n",
       "      <td>4.7</td>\n",
       "      <td>3.2</td>\n",
       "      <td>1.3</td>\n",
       "      <td>0.2</td>\n",
       "      <td>Iris-setosa</td>\n",
       "    </tr>\n",
       "    <tr>\n",
       "      <th>3</th>\n",
       "      <td>4</td>\n",
       "      <td>4.6</td>\n",
       "      <td>3.1</td>\n",
       "      <td>1.5</td>\n",
       "      <td>0.2</td>\n",
       "      <td>Iris-setosa</td>\n",
       "    </tr>\n",
       "    <tr>\n",
       "      <th>4</th>\n",
       "      <td>5</td>\n",
       "      <td>5.0</td>\n",
       "      <td>3.6</td>\n",
       "      <td>1.4</td>\n",
       "      <td>0.2</td>\n",
       "      <td>Iris-setosa</td>\n",
       "    </tr>\n",
       "  </tbody>\n",
       "</table>\n",
       "</div>"
      ],
      "text/plain": [
       "   Id  SepalLengthCm  SepalWidthCm  PetalLengthCm  PetalWidthCm      Species\n",
       "0   1            5.1           3.5            1.4           0.2  Iris-setosa\n",
       "1   2            4.9           3.0            1.4           0.2  Iris-setosa\n",
       "2   3            4.7           3.2            1.3           0.2  Iris-setosa\n",
       "3   4            4.6           3.1            1.5           0.2  Iris-setosa\n",
       "4   5            5.0           3.6            1.4           0.2  Iris-setosa"
      ]
     },
     "execution_count": 702,
     "metadata": {},
     "output_type": "execute_result"
    }
   ],
   "source": [
    "data.head()"
   ]
  },
  {
   "cell_type": "code",
   "execution_count": 703,
   "id": "15dc8355",
   "metadata": {},
   "outputs": [
    {
     "name": "stdout",
     "output_type": "stream",
     "text": [
      "<class 'pandas.core.frame.DataFrame'>\n",
      "RangeIndex: 150 entries, 0 to 149\n",
      "Data columns (total 6 columns):\n",
      " #   Column         Non-Null Count  Dtype  \n",
      "---  ------         --------------  -----  \n",
      " 0   Id             150 non-null    int64  \n",
      " 1   SepalLengthCm  150 non-null    float64\n",
      " 2   SepalWidthCm   150 non-null    float64\n",
      " 3   PetalLengthCm  150 non-null    float64\n",
      " 4   PetalWidthCm   150 non-null    float64\n",
      " 5   Species        150 non-null    object \n",
      "dtypes: float64(4), int64(1), object(1)\n",
      "memory usage: 7.2+ KB\n"
     ]
    }
   ],
   "source": [
    "data.info()"
   ]
  },
  {
   "cell_type": "code",
   "execution_count": 704,
   "id": "be53c879",
   "metadata": {},
   "outputs": [
    {
     "data": {
      "text/html": [
       "<div>\n",
       "<style scoped>\n",
       "    .dataframe tbody tr th:only-of-type {\n",
       "        vertical-align: middle;\n",
       "    }\n",
       "\n",
       "    .dataframe tbody tr th {\n",
       "        vertical-align: top;\n",
       "    }\n",
       "\n",
       "    .dataframe thead th {\n",
       "        text-align: right;\n",
       "    }\n",
       "</style>\n",
       "<table border=\"1\" class=\"dataframe\">\n",
       "  <thead>\n",
       "    <tr style=\"text-align: right;\">\n",
       "      <th></th>\n",
       "      <th>Id</th>\n",
       "      <th>SepalLengthCm</th>\n",
       "      <th>SepalWidthCm</th>\n",
       "      <th>PetalLengthCm</th>\n",
       "      <th>PetalWidthCm</th>\n",
       "    </tr>\n",
       "  </thead>\n",
       "  <tbody>\n",
       "    <tr>\n",
       "      <th>count</th>\n",
       "      <td>150.000000</td>\n",
       "      <td>150.000000</td>\n",
       "      <td>150.000000</td>\n",
       "      <td>150.000000</td>\n",
       "      <td>150.000000</td>\n",
       "    </tr>\n",
       "    <tr>\n",
       "      <th>mean</th>\n",
       "      <td>75.500000</td>\n",
       "      <td>5.843333</td>\n",
       "      <td>3.054000</td>\n",
       "      <td>3.758667</td>\n",
       "      <td>1.198667</td>\n",
       "    </tr>\n",
       "    <tr>\n",
       "      <th>std</th>\n",
       "      <td>43.445368</td>\n",
       "      <td>0.828066</td>\n",
       "      <td>0.433594</td>\n",
       "      <td>1.764420</td>\n",
       "      <td>0.763161</td>\n",
       "    </tr>\n",
       "    <tr>\n",
       "      <th>min</th>\n",
       "      <td>1.000000</td>\n",
       "      <td>4.300000</td>\n",
       "      <td>2.000000</td>\n",
       "      <td>1.000000</td>\n",
       "      <td>0.100000</td>\n",
       "    </tr>\n",
       "    <tr>\n",
       "      <th>25%</th>\n",
       "      <td>38.250000</td>\n",
       "      <td>5.100000</td>\n",
       "      <td>2.800000</td>\n",
       "      <td>1.600000</td>\n",
       "      <td>0.300000</td>\n",
       "    </tr>\n",
       "    <tr>\n",
       "      <th>50%</th>\n",
       "      <td>75.500000</td>\n",
       "      <td>5.800000</td>\n",
       "      <td>3.000000</td>\n",
       "      <td>4.350000</td>\n",
       "      <td>1.300000</td>\n",
       "    </tr>\n",
       "    <tr>\n",
       "      <th>75%</th>\n",
       "      <td>112.750000</td>\n",
       "      <td>6.400000</td>\n",
       "      <td>3.300000</td>\n",
       "      <td>5.100000</td>\n",
       "      <td>1.800000</td>\n",
       "    </tr>\n",
       "    <tr>\n",
       "      <th>max</th>\n",
       "      <td>150.000000</td>\n",
       "      <td>7.900000</td>\n",
       "      <td>4.400000</td>\n",
       "      <td>6.900000</td>\n",
       "      <td>2.500000</td>\n",
       "    </tr>\n",
       "  </tbody>\n",
       "</table>\n",
       "</div>"
      ],
      "text/plain": [
       "               Id  SepalLengthCm  SepalWidthCm  PetalLengthCm  PetalWidthCm\n",
       "count  150.000000     150.000000    150.000000     150.000000    150.000000\n",
       "mean    75.500000       5.843333      3.054000       3.758667      1.198667\n",
       "std     43.445368       0.828066      0.433594       1.764420      0.763161\n",
       "min      1.000000       4.300000      2.000000       1.000000      0.100000\n",
       "25%     38.250000       5.100000      2.800000       1.600000      0.300000\n",
       "50%     75.500000       5.800000      3.000000       4.350000      1.300000\n",
       "75%    112.750000       6.400000      3.300000       5.100000      1.800000\n",
       "max    150.000000       7.900000      4.400000       6.900000      2.500000"
      ]
     },
     "execution_count": 704,
     "metadata": {},
     "output_type": "execute_result"
    }
   ],
   "source": [
    "data.describe()"
   ]
  },
  {
   "cell_type": "code",
   "execution_count": 705,
   "id": "aca78bea",
   "metadata": {},
   "outputs": [],
   "source": [
    "# Crear un diccionario con los nuevos nombres de las características\n",
    "nuevos_nombres = {\n",
    "    'SepalLengthCm': 'longitud_sepalo',\n",
    "    'SepalWidthCm': 'ancho_sepalo',\n",
    "    'PetalLengthCm': 'longitud_petalo',\n",
    "    'PetalWidthCm': 'ancho_petalo',\n",
    "    'Species': 'especie'\n",
    "}\n",
    "\n",
    "# Utilizar el método rename() para renombrar las características\n",
    "data.rename(columns=nuevos_nombres, inplace=True)"
   ]
  },
  {
   "cell_type": "code",
   "execution_count": 706,
   "id": "18952d7c",
   "metadata": {},
   "outputs": [
    {
     "data": {
      "text/html": [
       "<div>\n",
       "<style scoped>\n",
       "    .dataframe tbody tr th:only-of-type {\n",
       "        vertical-align: middle;\n",
       "    }\n",
       "\n",
       "    .dataframe tbody tr th {\n",
       "        vertical-align: top;\n",
       "    }\n",
       "\n",
       "    .dataframe thead th {\n",
       "        text-align: right;\n",
       "    }\n",
       "</style>\n",
       "<table border=\"1\" class=\"dataframe\">\n",
       "  <thead>\n",
       "    <tr style=\"text-align: right;\">\n",
       "      <th></th>\n",
       "      <th>Id</th>\n",
       "      <th>longitud_sepalo</th>\n",
       "      <th>ancho_sepalo</th>\n",
       "      <th>longitud_petalo</th>\n",
       "      <th>ancho_petalo</th>\n",
       "      <th>especie</th>\n",
       "    </tr>\n",
       "  </thead>\n",
       "  <tbody>\n",
       "    <tr>\n",
       "      <th>0</th>\n",
       "      <td>1</td>\n",
       "      <td>5.1</td>\n",
       "      <td>3.5</td>\n",
       "      <td>1.4</td>\n",
       "      <td>0.2</td>\n",
       "      <td>Iris-setosa</td>\n",
       "    </tr>\n",
       "    <tr>\n",
       "      <th>1</th>\n",
       "      <td>2</td>\n",
       "      <td>4.9</td>\n",
       "      <td>3.0</td>\n",
       "      <td>1.4</td>\n",
       "      <td>0.2</td>\n",
       "      <td>Iris-setosa</td>\n",
       "    </tr>\n",
       "    <tr>\n",
       "      <th>2</th>\n",
       "      <td>3</td>\n",
       "      <td>4.7</td>\n",
       "      <td>3.2</td>\n",
       "      <td>1.3</td>\n",
       "      <td>0.2</td>\n",
       "      <td>Iris-setosa</td>\n",
       "    </tr>\n",
       "    <tr>\n",
       "      <th>3</th>\n",
       "      <td>4</td>\n",
       "      <td>4.6</td>\n",
       "      <td>3.1</td>\n",
       "      <td>1.5</td>\n",
       "      <td>0.2</td>\n",
       "      <td>Iris-setosa</td>\n",
       "    </tr>\n",
       "    <tr>\n",
       "      <th>4</th>\n",
       "      <td>5</td>\n",
       "      <td>5.0</td>\n",
       "      <td>3.6</td>\n",
       "      <td>1.4</td>\n",
       "      <td>0.2</td>\n",
       "      <td>Iris-setosa</td>\n",
       "    </tr>\n",
       "  </tbody>\n",
       "</table>\n",
       "</div>"
      ],
      "text/plain": [
       "   Id  longitud_sepalo  ancho_sepalo  longitud_petalo  ancho_petalo  \\\n",
       "0   1              5.1           3.5              1.4           0.2   \n",
       "1   2              4.9           3.0              1.4           0.2   \n",
       "2   3              4.7           3.2              1.3           0.2   \n",
       "3   4              4.6           3.1              1.5           0.2   \n",
       "4   5              5.0           3.6              1.4           0.2   \n",
       "\n",
       "       especie  \n",
       "0  Iris-setosa  \n",
       "1  Iris-setosa  \n",
       "2  Iris-setosa  \n",
       "3  Iris-setosa  \n",
       "4  Iris-setosa  "
      ]
     },
     "execution_count": 706,
     "metadata": {},
     "output_type": "execute_result"
    }
   ],
   "source": [
    "data.head()"
   ]
  },
  {
   "cell_type": "markdown",
   "id": "dbe8e25b",
   "metadata": {},
   "source": [
    "## Visualización de la distribución de las características"
   ]
  },
  {
   "cell_type": "code",
   "execution_count": 707,
   "id": "914191d7",
   "metadata": {
    "scrolled": true
   },
   "outputs": [],
   "source": [
    "import matplotlib.pyplot as plt"
   ]
  },
  {
   "cell_type": "code",
   "execution_count": 708,
   "id": "2bdc3cc0",
   "metadata": {},
   "outputs": [
    {
     "data": {
      "image/png": "[encoded data removed]",
      "text/plain": [
       "<Figure size 640x480 with 1 Axes>"
      ]
     },
     "metadata": {},
     "output_type": "display_data"
    }
   ],
   "source": [
    "# Histograma de una característica específica\n",
    "plt.hist(data['longitud_sepalo'])\n",
    "plt.xlabel('Longitud del sépalo')\n",
    "plt.ylabel('Frecuencia')\n",
    "plt.title('Histograma de Longitud del sépalo')\n",
    "plt.show()"
   ]
  },
  {
   "cell_type": "code",
   "execution_count": 709,
   "id": "f5301fa1",
   "metadata": {
    "scrolled": false
   },
   "outputs": [
    {
     "data": {
      "text/plain": [
       "0      5.1\n",
       "1      4.9\n",
       "2      4.7\n",
       "3      4.6\n",
       "4      5.0\n",
       "      ... \n",
       "145    6.7\n",
       "146    6.3\n",
       "147    6.5\n",
       "148    6.2\n",
       "149    5.9\n",
       "Name: longitud_sepalo, Length: 150, dtype: float64"
      ]
     },
     "execution_count": 709,
     "metadata": {},
     "output_type": "execute_result"
    }
   ],
   "source": [
    "# Obtener los valores de longitud del sépalo\n",
    "longitud_sepalo = data['longitud_sepalo']\n",
    "longitud_sepalo"
   ]
  },
  {
   "cell_type": "markdown",
   "id": "ef8387ac",
   "metadata": {},
   "source": [
    "El código longitud_sepalo = data['longitud_sepalo'] selecciona la columna 'longitud_sepalo' del DataFrame data y crea un nuevo objeto llamado longitud_sepalo, que es un array que contiene los valores de la columna "
   ]
  },
  {
   "cell_type": "code",
   "execution_count": 710,
   "id": "e96a9184",
   "metadata": {},
   "outputs": [
    {
     "data": {
      "image/png": "[encoded data removed]",
      "text/plain": [
       "<Figure size 640x480 with 1 Axes>"
      ]
     },
     "metadata": {},
     "output_type": "display_data"
    }
   ],
   "source": [
    "# Obtener los valores de longitud del sépalo\n",
    "longitud_sepalo = data['longitud_sepalo']\n",
    "\n",
    "# Crear el histograma\n",
    "plt.hist(longitud_sepalo, bins='auto')\n",
    "plt.xlabel('Longitud del Sépalo')\n",
    "plt.ylabel('Frecuencia')\n",
    "plt.title('Histograma de Longitud del Sépalo con intervalos (bins) automaticos')\n",
    "plt.show()"
   ]
  },
  {
   "cell_type": "code",
   "execution_count": 711,
   "id": "379d9cbd",
   "metadata": {},
   "outputs": [
    {
     "data": {
      "image/png": "[encoded data removed]",
      "text/plain": [
       "<Figure size 640x480 with 1 Axes>"
      ]
     },
     "metadata": {},
     "output_type": "display_data"
    }
   ],
   "source": [
    "# Obtener los valores de longitud del sépalo\n",
    "longitud_sepalo = data['longitud_sepalo']\n",
    "\n",
    "# Crear el histograma\n",
    "plt.hist(longitud_sepalo, bins='auto', density=True)\n",
    "plt.xlabel('Longitud del Sépalo')\n",
    "plt.ylabel('Frecuencia Relativa')\n",
    "plt.title('Histograma de Longitud del Sépalo de densidad relativa ')\n",
    "plt.show()"
   ]
  },
  {
   "cell_type": "code",
   "execution_count": 712,
   "id": "6e2bc014",
   "metadata": {},
   "outputs": [
    {
     "data": {
      "image/png": "[encoded data removed]",
      "text/plain": [
       "<Figure size 640x480 with 1 Axes>"
      ]
     },
     "metadata": {},
     "output_type": "display_data"
    },
    {
     "name": "stdout",
     "output_type": "stream",
     "text": [
      "[4.3 4.7 5.1 5.5 5.9 6.3 6.7 7.1 7.5 7.9]\n"
     ]
    }
   ],
   "source": [
    "hist, bins, _ = plt.hist(longitud_sepalo, bins='auto')\n",
    "\n",
    "plt.xlabel('Longitud del Sépalo')\n",
    "plt.ylabel('Frecuencia')\n",
    "plt.title('Histograma de Longitud del Sépalo con valores de frequencia agregados')\n",
    "\n",
    "# Agregar frecuencia en cada barra del histograma\n",
    "for i in range(len(hist)):\n",
    "    plt.text(bins[i], hist[i], str(int(hist[i])), ha='center', va='bottom')\n",
    "\n",
    "plt.show()\n",
    "print(bins)"
   ]
  },
  {
   "cell_type": "code",
   "execution_count": 713,
   "id": "d6d643d3",
   "metadata": {},
   "outputs": [
    {
     "data": {
      "image/png": "[encoded data removed]",
      "text/plain": [
       "<Figure size 640x480 with 1 Axes>"
      ]
     },
     "metadata": {},
     "output_type": "display_data"
    }
   ],
   "source": [
    "hist, bins, patches = plt.hist(longitud_sepalo, bins='auto')\n",
    "\n",
    "# Realizar operaciones adicionales o modificar las propiedades de los parches\n",
    "for patch in patches:\n",
    "    patch.set_color('red')\n",
    "\n",
    "plt.xlabel('Longitud del Sépalo')\n",
    "plt.ylabel('Frecuencia')\n",
    "plt.title('Histograma de Longitud del Sépalo de color rojo')\n",
    "\n",
    "plt.show()"
   ]
  },
  {
   "cell_type": "code",
   "execution_count": 714,
   "id": "2ba11d97",
   "metadata": {},
   "outputs": [
    {
     "data": {
      "image/png": "[encoded data removed]",
      "text/plain": [
       "<Figure size 640x480 with 1 Axes>"
      ]
     },
     "metadata": {},
     "output_type": "display_data"
    }
   ],
   "source": [
    "hist, bins, patches = plt.hist(longitud_sepalo, bins='auto')\n",
    "\n",
    "# Cambiar el color de los parches a azul\n",
    "for patch in patches:\n",
    "    patch.set_facecolor('lightblue')\n",
    "    \n",
    "# Cambiar el color de los bordes de las barras\n",
    "for patch in patches:\n",
    "    patch.set_edgecolor('blue')\n",
    "\n",
    "plt.xlabel('Longitud del Sépalo')\n",
    "plt.ylabel('Frecuencia')\n",
    "plt.title('Histograma de Longitud del Sépalo de color azul clar y bordes azul')\n",
    "\n",
    "plt.show()"
   ]
  },
  {
   "cell_type": "code",
   "execution_count": 715,
   "id": "bc45f24d",
   "metadata": {},
   "outputs": [
    {
     "data": {
      "image/png": "[encoded data removed]",
      "text/plain": [
       "<Figure size 640x480 with 1 Axes>"
      ]
     },
     "metadata": {},
     "output_type": "display_data"
    },
    {
     "name": "stdout",
     "output_type": "stream",
     "text": [
      "Iris-setosa        50\n",
      "Iris-versicolor    50\n",
      "Iris-virginica     50\n",
      "Name: especie, dtype: int64\n"
     ]
    }
   ],
   "source": [
    "count_by_species = data['especie'].value_counts()\n",
    "plt.bar(count_by_species.index, count_by_species.values)\n",
    "plt.xlabel('Especie')\n",
    "plt.ylabel('Count')\n",
    "plt.title('Distribución de las especies')\n",
    "plt.show()\n",
    "\n",
    "print(count_by_species)"
   ]
  },
  {
   "cell_type": "code",
   "execution_count": 716,
   "id": "4ef0b451",
   "metadata": {},
   "outputs": [
    {
     "data": {
      "text/html": [
       "<div>\n",
       "<style scoped>\n",
       "    .dataframe tbody tr th:only-of-type {\n",
       "        vertical-align: middle;\n",
       "    }\n",
       "\n",
       "    .dataframe tbody tr th {\n",
       "        vertical-align: top;\n",
       "    }\n",
       "\n",
       "    .dataframe thead th {\n",
       "        text-align: right;\n",
       "    }\n",
       "</style>\n",
       "<table border=\"1\" class=\"dataframe\">\n",
       "  <thead>\n",
       "    <tr style=\"text-align: right;\">\n",
       "      <th></th>\n",
       "      <th>Id</th>\n",
       "      <th>longitud_sepalo</th>\n",
       "      <th>ancho_sepalo</th>\n",
       "      <th>longitud_petalo</th>\n",
       "      <th>ancho_petalo</th>\n",
       "    </tr>\n",
       "  </thead>\n",
       "  <tbody>\n",
       "    <tr>\n",
       "      <th>count</th>\n",
       "      <td>150.000000</td>\n",
       "      <td>150.000000</td>\n",
       "      <td>150.000000</td>\n",
       "      <td>150.000000</td>\n",
       "      <td>150.000000</td>\n",
       "    </tr>\n",
       "    <tr>\n",
       "      <th>mean</th>\n",
       "      <td>75.500000</td>\n",
       "      <td>5.843333</td>\n",
       "      <td>3.054000</td>\n",
       "      <td>3.758667</td>\n",
       "      <td>1.198667</td>\n",
       "    </tr>\n",
       "    <tr>\n",
       "      <th>std</th>\n",
       "      <td>43.445368</td>\n",
       "      <td>0.828066</td>\n",
       "      <td>0.433594</td>\n",
       "      <td>1.764420</td>\n",
       "      <td>0.763161</td>\n",
       "    </tr>\n",
       "    <tr>\n",
       "      <th>min</th>\n",
       "      <td>1.000000</td>\n",
       "      <td>4.300000</td>\n",
       "      <td>2.000000</td>\n",
       "      <td>1.000000</td>\n",
       "      <td>0.100000</td>\n",
       "    </tr>\n",
       "    <tr>\n",
       "      <th>25%</th>\n",
       "      <td>38.250000</td>\n",
       "      <td>5.100000</td>\n",
       "      <td>2.800000</td>\n",
       "      <td>1.600000</td>\n",
       "      <td>0.300000</td>\n",
       "    </tr>\n",
       "    <tr>\n",
       "      <th>50%</th>\n",
       "      <td>75.500000</td>\n",
       "      <td>5.800000</td>\n",
       "      <td>3.000000</td>\n",
       "      <td>4.350000</td>\n",
       "      <td>1.300000</td>\n",
       "    </tr>\n",
       "    <tr>\n",
       "      <th>75%</th>\n",
       "      <td>112.750000</td>\n",
       "      <td>6.400000</td>\n",
       "      <td>3.300000</td>\n",
       "      <td>5.100000</td>\n",
       "      <td>1.800000</td>\n",
       "    </tr>\n",
       "    <tr>\n",
       "      <th>max</th>\n",
       "      <td>150.000000</td>\n",
       "      <td>7.900000</td>\n",
       "      <td>4.400000</td>\n",
       "      <td>6.900000</td>\n",
       "      <td>2.500000</td>\n",
       "    </tr>\n",
       "  </tbody>\n",
       "</table>\n",
       "</div>"
      ],
      "text/plain": [
       "               Id  longitud_sepalo  ancho_sepalo  longitud_petalo  \\\n",
       "count  150.000000       150.000000    150.000000       150.000000   \n",
       "mean    75.500000         5.843333      3.054000         3.758667   \n",
       "std     43.445368         0.828066      0.433594         1.764420   \n",
       "min      1.000000         4.300000      2.000000         1.000000   \n",
       "25%     38.250000         5.100000      2.800000         1.600000   \n",
       "50%     75.500000         5.800000      3.000000         4.350000   \n",
       "75%    112.750000         6.400000      3.300000         5.100000   \n",
       "max    150.000000         7.900000      4.400000         6.900000   \n",
       "\n",
       "       ancho_petalo  \n",
       "count    150.000000  \n",
       "mean       1.198667  \n",
       "std        0.763161  \n",
       "min        0.100000  \n",
       "25%        0.300000  \n",
       "50%        1.300000  \n",
       "75%        1.800000  \n",
       "max        2.500000  "
      ]
     },
     "execution_count": 716,
     "metadata": {},
     "output_type": "execute_result"
    }
   ],
   "source": [
    "data.describe()"
   ]
  },
  {
   "cell_type": "code",
   "execution_count": 717,
   "id": "841719e2",
   "metadata": {},
   "outputs": [
    {
     "data": {
      "image/png": "[encoded data removed]",
      "text/plain": [
       "<Figure size 640x480 with 1 Axes>"
      ]
     },
     "metadata": {},
     "output_type": "display_data"
    }
   ],
   "source": [
    "# Diagrama de caja de una característica específica\n",
    "plt.boxplot(data['longitud_petalo'])\n",
    "plt.ylabel('Longitud del pétalo')\n",
    "plt.title('Diagrama de caja de Longitud del pétalo')\n",
    "plt.show()"
   ]
  },
  {
   "cell_type": "markdown",
   "id": "92faf7e2",
   "metadata": {},
   "source": [
    "## Correlación entre características"
   ]
  },
  {
   "cell_type": "code",
   "execution_count": 718,
   "id": "b19dff80",
   "metadata": {},
   "outputs": [
    {
     "name": "stderr",
     "output_type": "stream",
     "text": [
      "/var/folders/49/npd65fgx00b38nz7q3jjvfx40000gn/T/ipykernel_1155/2558734126.py:1: FutureWarning: The default value of numeric_only in DataFrame.corr is deprecated. In a future version, it will default to False. Select only valid columns or specify the value of numeric_only to silence this warning.\n",
      "  correlation_matrix = data.corr()\n"
     ]
    }
   ],
   "source": [
    "correlation_matrix = data.corr()"
   ]
  },
  {
   "cell_type": "code",
   "execution_count": 719,
   "id": "4f9dc6c3",
   "metadata": {
    "scrolled": true
   },
   "outputs": [
    {
     "data": {
      "text/html": [
       "<div>\n",
       "<style scoped>\n",
       "    .dataframe tbody tr th:only-of-type {\n",
       "        vertical-align: middle;\n",
       "    }\n",
       "\n",
       "    .dataframe tbody tr th {\n",
       "        vertical-align: top;\n",
       "    }\n",
       "\n",
       "    .dataframe thead th {\n",
       "        text-align: right;\n",
       "    }\n",
       "</style>\n",
       "<table border=\"1\" class=\"dataframe\">\n",
       "  <thead>\n",
       "    <tr style=\"text-align: right;\">\n",
       "      <th></th>\n",
       "      <th>Id</th>\n",
       "      <th>longitud_sepalo</th>\n",
       "      <th>ancho_sepalo</th>\n",
       "      <th>longitud_petalo</th>\n",
       "      <th>ancho_petalo</th>\n",
       "    </tr>\n",
       "  </thead>\n",
       "  <tbody>\n",
       "    <tr>\n",
       "      <th>Id</th>\n",
       "      <td>1.000000</td>\n",
       "      <td>0.716676</td>\n",
       "      <td>-0.397729</td>\n",
       "      <td>0.882747</td>\n",
       "      <td>0.899759</td>\n",
       "    </tr>\n",
       "    <tr>\n",
       "      <th>longitud_sepalo</th>\n",
       "      <td>0.716676</td>\n",
       "      <td>1.000000</td>\n",
       "      <td>-0.109369</td>\n",
       "      <td>0.871754</td>\n",
       "      <td>0.817954</td>\n",
       "    </tr>\n",
       "    <tr>\n",
       "      <th>ancho_sepalo</th>\n",
       "      <td>-0.397729</td>\n",
       "      <td>-0.109369</td>\n",
       "      <td>1.000000</td>\n",
       "      <td>-0.420516</td>\n",
       "      <td>-0.356544</td>\n",
       "    </tr>\n",
       "    <tr>\n",
       "      <th>longitud_petalo</th>\n",
       "      <td>0.882747</td>\n",
       "      <td>0.871754</td>\n",
       "      <td>-0.420516</td>\n",
       "      <td>1.000000</td>\n",
       "      <td>0.962757</td>\n",
       "    </tr>\n",
       "    <tr>\n",
       "      <th>ancho_petalo</th>\n",
       "      <td>0.899759</td>\n",
       "      <td>0.817954</td>\n",
       "      <td>-0.356544</td>\n",
       "      <td>0.962757</td>\n",
       "      <td>1.000000</td>\n",
       "    </tr>\n",
       "  </tbody>\n",
       "</table>\n",
       "</div>"
      ],
      "text/plain": [
       "                       Id  longitud_sepalo  ancho_sepalo  longitud_petalo  \\\n",
       "Id               1.000000         0.716676     -0.397729         0.882747   \n",
       "longitud_sepalo  0.716676         1.000000     -0.109369         0.871754   \n",
       "ancho_sepalo    -0.397729        -0.109369      1.000000        -0.420516   \n",
       "longitud_petalo  0.882747         0.871754     -0.420516         1.000000   \n",
       "ancho_petalo     0.899759         0.817954     -0.356544         0.962757   \n",
       "\n",
       "                 ancho_petalo  \n",
       "Id                   0.899759  \n",
       "longitud_sepalo      0.817954  \n",
       "ancho_sepalo        -0.356544  \n",
       "longitud_petalo      0.962757  \n",
       "ancho_petalo         1.000000  "
      ]
     },
     "execution_count": 719,
     "metadata": {},
     "output_type": "execute_result"
    }
   ],
   "source": [
    "correlation_matrix = data.corr(numeric_only=True)\n",
    "correlation_matrix"
   ]
  },
  {
   "cell_type": "markdown",
   "id": "3cee4250",
   "metadata": {},
   "source": [
    "Un número positivo cerca de 1 indica una correlación positiva fuerte, lo que significa que cuando una característica aumenta, la otra también tiende a aumentar.\n",
    "Un número negativo cerca de -1 indica una correlación negativa fuerte, lo que significa que cuando una característica aumenta, la otra tiende a disminuir.\n",
    "Un número cercano a 0 indica una correlación débil o inexistente, lo que significa que no hay una relación lineal fuerte entre las características."
   ]
  },
  {
   "cell_type": "code",
   "execution_count": 720,
   "id": "3aacc198",
   "metadata": {
    "scrolled": true
   },
   "outputs": [
    {
     "data": {
      "image/png": "[encoded data removed]",
      "text/plain": [
       "<Figure size 640x480 with 2 Axes>"
      ]
     },
     "metadata": {},
     "output_type": "display_data"
    }
   ],
   "source": [
    "import seaborn as sns\n",
    "import matplotlib.pyplot as plt\n",
    "\n",
    "sns.heatmap(correlation_matrix, annot=True, cmap='coolwarm')\n",
    "plt.title('Matriz de correlación')\n",
    "plt.show()"
   ]
  },
  {
   "cell_type": "code",
   "execution_count": 721,
   "id": "eb10790d",
   "metadata": {},
   "outputs": [
    {
     "name": "stdout",
     "output_type": "stream",
     "text": [
      "<class 'pandas.core.frame.DataFrame'>\n",
      "RangeIndex: 150 entries, 0 to 149\n",
      "Data columns (total 6 columns):\n",
      " #   Column           Non-Null Count  Dtype  \n",
      "---  ------           --------------  -----  \n",
      " 0   Id               150 non-null    int64  \n",
      " 1   longitud_sepalo  150 non-null    float64\n",
      " 2   ancho_sepalo     150 non-null    float64\n",
      " 3   longitud_petalo  150 non-null    float64\n",
      " 4   ancho_petalo     150 non-null    float64\n",
      " 5   especie          150 non-null    object \n",
      "dtypes: float64(4), int64(1), object(1)\n",
      "memory usage: 7.2+ KB\n"
     ]
    }
   ],
   "source": [
    "data.info()"
   ]
  },
  {
   "cell_type": "code",
   "execution_count": 722,
   "id": "2daad8ac",
   "metadata": {},
   "outputs": [
    {
     "data": {
      "text/html": [
       "<div>\n",
       "<style scoped>\n",
       "    .dataframe tbody tr th:only-of-type {\n",
       "        vertical-align: middle;\n",
       "    }\n",
       "\n",
       "    .dataframe tbody tr th {\n",
       "        vertical-align: top;\n",
       "    }\n",
       "\n",
       "    .dataframe thead th {\n",
       "        text-align: right;\n",
       "    }\n",
       "</style>\n",
       "<table border=\"1\" class=\"dataframe\">\n",
       "  <thead>\n",
       "    <tr style=\"text-align: right;\">\n",
       "      <th></th>\n",
       "      <th>longitud_sepalo</th>\n",
       "      <th>ancho_sepalo</th>\n",
       "      <th>longitud_petalo</th>\n",
       "      <th>ancho_petalo</th>\n",
       "    </tr>\n",
       "  </thead>\n",
       "  <tbody>\n",
       "    <tr>\n",
       "      <th>longitud_sepalo</th>\n",
       "      <td>1.000000</td>\n",
       "      <td>-0.109369</td>\n",
       "      <td>0.871754</td>\n",
       "      <td>0.817954</td>\n",
       "    </tr>\n",
       "    <tr>\n",
       "      <th>ancho_sepalo</th>\n",
       "      <td>-0.109369</td>\n",
       "      <td>1.000000</td>\n",
       "      <td>-0.420516</td>\n",
       "      <td>-0.356544</td>\n",
       "    </tr>\n",
       "    <tr>\n",
       "      <th>longitud_petalo</th>\n",
       "      <td>0.871754</td>\n",
       "      <td>-0.420516</td>\n",
       "      <td>1.000000</td>\n",
       "      <td>0.962757</td>\n",
       "    </tr>\n",
       "    <tr>\n",
       "      <th>ancho_petalo</th>\n",
       "      <td>0.817954</td>\n",
       "      <td>-0.356544</td>\n",
       "      <td>0.962757</td>\n",
       "      <td>1.000000</td>\n",
       "    </tr>\n",
       "  </tbody>\n",
       "</table>\n",
       "</div>"
      ],
      "text/plain": [
       "                 longitud_sepalo  ancho_sepalo  longitud_petalo  ancho_petalo\n",
       "longitud_sepalo         1.000000     -0.109369         0.871754      0.817954\n",
       "ancho_sepalo           -0.109369      1.000000        -0.420516     -0.356544\n",
       "longitud_petalo         0.871754     -0.420516         1.000000      0.962757\n",
       "ancho_petalo            0.817954     -0.356544         0.962757      1.000000"
      ]
     },
     "execution_count": 722,
     "metadata": {},
     "output_type": "execute_result"
    }
   ],
   "source": [
    "numeric_columns = data.select_dtypes(exclude='int64')  # Excluir variable Id (tipo 'int64)'\n",
    "correlation_matrix = numeric_columns.corr(numeric_only=True)  # Calcular la matriz de correlación\n",
    "correlation_matrix"
   ]
  },
  {
   "cell_type": "markdown",
   "id": "b763db4f",
   "metadata": {},
   "source": [
    "Para excluir varias variables"
   ]
  },
  {
   "cell_type": "code",
   "execution_count": 723,
   "id": "bbf3633a",
   "metadata": {},
   "outputs": [],
   "source": [
    "# Crear una lista de nombres de columnas a excluir\n",
    "columns_to_exclude = ['Id', 'especie']\n",
    "\n",
    "# Crear una copia del DataFrame sin las columnas excluidas\n",
    "data_subset = data.drop(columns=columns_to_exclude)\n",
    "\n",
    "# Calcular la matriz de correlación del subconjunto de datos\n",
    "correlation_matrix = data_subset.corr()"
   ]
  },
  {
   "cell_type": "code",
   "execution_count": 724,
   "id": "0bdfc1c3",
   "metadata": {},
   "outputs": [
    {
     "data": {
      "image/png": "[encoded data removed]",
      "text/plain": [
       "<Figure size 640x480 with 2 Axes>"
      ]
     },
     "metadata": {},
     "output_type": "display_data"
    }
   ],
   "source": [
    "sns.heatmap(correlation_matrix, annot=True, cmap='coolwarm')\n",
    "plt.title('Matriz de correlación')\n",
    "plt.show()"
   ]
  },
  {
   "cell_type": "markdown",
   "id": "685d0054",
   "metadata": {},
   "source": [
    "## Análisis de valores faltantes"
   ]
  },
  {
   "cell_type": "code",
   "execution_count": 725,
   "id": "da5a95d3",
   "metadata": {},
   "outputs": [
    {
     "name": "stdout",
     "output_type": "stream",
     "text": [
      "Id                 0\n",
      "longitud_sepalo    0\n",
      "ancho_sepalo       0\n",
      "longitud_petalo    0\n",
      "ancho_petalo       0\n",
      "especie            0\n",
      "dtype: int64\n"
     ]
    }
   ],
   "source": [
    "# Contar los valores faltantes por columna\n",
    "missing_values = data.isnull().sum()\n",
    "print(missing_values)"
   ]
  },
  {
   "cell_type": "code",
   "execution_count": 726,
   "id": "b84ab7d5",
   "metadata": {
    "scrolled": true
   },
   "outputs": [
    {
     "data": {
      "image/png": "[encoded data removed]",
      "text/plain": [
       "<Figure size 640x480 with 1 Axes>"
      ]
     },
     "metadata": {},
     "output_type": "display_data"
    }
   ],
   "source": [
    "# Visualizar los valores faltantes\n",
    "\n",
    "# Crear un gráfico de barras para visualizar los valores faltantes\n",
    "plt.bar(missing_values.index, missing_values)\n",
    "plt.xlabel('Columnas')\n",
    "plt.ylabel('Cantidad de valores faltantes')\n",
    "plt.title('Valores faltantes por columna')\n",
    "plt.xticks(rotation='vertical')\n",
    "plt.show()"
   ]
  },
  {
   "cell_type": "code",
   "execution_count": 727,
   "id": "2a13a304",
   "metadata": {},
   "outputs": [],
   "source": [
    "# Eliminar filas o columnas con valores faltantes\n",
    "data_without_missing = data.dropna()"
   ]
  },
  {
   "cell_type": "markdown",
   "id": "46581a0c",
   "metadata": {},
   "source": [
    "## Detección y manejo de valores atípicos"
   ]
  },
  {
   "cell_type": "code",
   "execution_count": 728,
   "id": "934114fb",
   "metadata": {},
   "outputs": [
    {
     "data": {
      "text/html": [
       "<div>\n",
       "<style scoped>\n",
       "    .dataframe tbody tr th:only-of-type {\n",
       "        vertical-align: middle;\n",
       "    }\n",
       "\n",
       "    .dataframe tbody tr th {\n",
       "        vertical-align: top;\n",
       "    }\n",
       "\n",
       "    .dataframe thead th {\n",
       "        text-align: right;\n",
       "    }\n",
       "</style>\n",
       "<table border=\"1\" class=\"dataframe\">\n",
       "  <thead>\n",
       "    <tr style=\"text-align: right;\">\n",
       "      <th></th>\n",
       "      <th>longitud_sepalo</th>\n",
       "      <th>ancho_sepalo</th>\n",
       "      <th>longitud_petalo</th>\n",
       "      <th>ancho_petalo</th>\n",
       "    </tr>\n",
       "  </thead>\n",
       "  <tbody>\n",
       "    <tr>\n",
       "      <th>0</th>\n",
       "      <td>5.1</td>\n",
       "      <td>3.5</td>\n",
       "      <td>1.4</td>\n",
       "      <td>0.2</td>\n",
       "    </tr>\n",
       "    <tr>\n",
       "      <th>1</th>\n",
       "      <td>4.9</td>\n",
       "      <td>3.0</td>\n",
       "      <td>1.4</td>\n",
       "      <td>0.2</td>\n",
       "    </tr>\n",
       "    <tr>\n",
       "      <th>2</th>\n",
       "      <td>4.7</td>\n",
       "      <td>3.2</td>\n",
       "      <td>1.3</td>\n",
       "      <td>0.2</td>\n",
       "    </tr>\n",
       "    <tr>\n",
       "      <th>3</th>\n",
       "      <td>4.6</td>\n",
       "      <td>3.1</td>\n",
       "      <td>1.5</td>\n",
       "      <td>0.2</td>\n",
       "    </tr>\n",
       "    <tr>\n",
       "      <th>4</th>\n",
       "      <td>5.0</td>\n",
       "      <td>3.6</td>\n",
       "      <td>1.4</td>\n",
       "      <td>0.2</td>\n",
       "    </tr>\n",
       "    <tr>\n",
       "      <th>...</th>\n",
       "      <td>...</td>\n",
       "      <td>...</td>\n",
       "      <td>...</td>\n",
       "      <td>...</td>\n",
       "    </tr>\n",
       "    <tr>\n",
       "      <th>145</th>\n",
       "      <td>6.7</td>\n",
       "      <td>3.0</td>\n",
       "      <td>5.2</td>\n",
       "      <td>2.3</td>\n",
       "    </tr>\n",
       "    <tr>\n",
       "      <th>146</th>\n",
       "      <td>6.3</td>\n",
       "      <td>2.5</td>\n",
       "      <td>5.0</td>\n",
       "      <td>1.9</td>\n",
       "    </tr>\n",
       "    <tr>\n",
       "      <th>147</th>\n",
       "      <td>6.5</td>\n",
       "      <td>3.0</td>\n",
       "      <td>5.2</td>\n",
       "      <td>2.0</td>\n",
       "    </tr>\n",
       "    <tr>\n",
       "      <th>148</th>\n",
       "      <td>6.2</td>\n",
       "      <td>3.4</td>\n",
       "      <td>5.4</td>\n",
       "      <td>2.3</td>\n",
       "    </tr>\n",
       "    <tr>\n",
       "      <th>149</th>\n",
       "      <td>5.9</td>\n",
       "      <td>3.0</td>\n",
       "      <td>5.1</td>\n",
       "      <td>1.8</td>\n",
       "    </tr>\n",
       "  </tbody>\n",
       "</table>\n",
       "<p>150 rows × 4 columns</p>\n",
       "</div>"
      ],
      "text/plain": [
       "     longitud_sepalo  ancho_sepalo  longitud_petalo  ancho_petalo\n",
       "0                5.1           3.5              1.4           0.2\n",
       "1                4.9           3.0              1.4           0.2\n",
       "2                4.7           3.2              1.3           0.2\n",
       "3                4.6           3.1              1.5           0.2\n",
       "4                5.0           3.6              1.4           0.2\n",
       "..               ...           ...              ...           ...\n",
       "145              6.7           3.0              5.2           2.3\n",
       "146              6.3           2.5              5.0           1.9\n",
       "147              6.5           3.0              5.2           2.0\n",
       "148              6.2           3.4              5.4           2.3\n",
       "149              5.9           3.0              5.1           1.8\n",
       "\n",
       "[150 rows x 4 columns]"
      ]
     },
     "execution_count": 728,
     "metadata": {},
     "output_type": "execute_result"
    }
   ],
   "source": [
    "numeric_columns = data.select_dtypes(include='float64')\n",
    "numeric_columns"
   ]
  },
  {
   "cell_type": "code",
   "execution_count": 729,
   "id": "2c63ae24",
   "metadata": {},
   "outputs": [
    {
     "data": {
      "text/html": [
       "<div>\n",
       "<style scoped>\n",
       "    .dataframe tbody tr th:only-of-type {\n",
       "        vertical-align: middle;\n",
       "    }\n",
       "\n",
       "    .dataframe tbody tr th {\n",
       "        vertical-align: top;\n",
       "    }\n",
       "\n",
       "    .dataframe thead th {\n",
       "        text-align: right;\n",
       "    }\n",
       "</style>\n",
       "<table border=\"1\" class=\"dataframe\">\n",
       "  <thead>\n",
       "    <tr style=\"text-align: right;\">\n",
       "      <th></th>\n",
       "      <th>longitud_sepalo</th>\n",
       "      <th>ancho_sepalo</th>\n",
       "      <th>longitud_petalo</th>\n",
       "      <th>ancho_petalo</th>\n",
       "    </tr>\n",
       "  </thead>\n",
       "  <tbody>\n",
       "    <tr>\n",
       "      <th>count</th>\n",
       "      <td>150.000000</td>\n",
       "      <td>150.000000</td>\n",
       "      <td>150.000000</td>\n",
       "      <td>150.000000</td>\n",
       "    </tr>\n",
       "    <tr>\n",
       "      <th>mean</th>\n",
       "      <td>5.843333</td>\n",
       "      <td>3.054000</td>\n",
       "      <td>3.758667</td>\n",
       "      <td>1.198667</td>\n",
       "    </tr>\n",
       "    <tr>\n",
       "      <th>std</th>\n",
       "      <td>0.828066</td>\n",
       "      <td>0.433594</td>\n",
       "      <td>1.764420</td>\n",
       "      <td>0.763161</td>\n",
       "    </tr>\n",
       "    <tr>\n",
       "      <th>min</th>\n",
       "      <td>4.300000</td>\n",
       "      <td>2.000000</td>\n",
       "      <td>1.000000</td>\n",
       "      <td>0.100000</td>\n",
       "    </tr>\n",
       "    <tr>\n",
       "      <th>25%</th>\n",
       "      <td>5.100000</td>\n",
       "      <td>2.800000</td>\n",
       "      <td>1.600000</td>\n",
       "      <td>0.300000</td>\n",
       "    </tr>\n",
       "    <tr>\n",
       "      <th>50%</th>\n",
       "      <td>5.800000</td>\n",
       "      <td>3.000000</td>\n",
       "      <td>4.350000</td>\n",
       "      <td>1.300000</td>\n",
       "    </tr>\n",
       "    <tr>\n",
       "      <th>75%</th>\n",
       "      <td>6.400000</td>\n",
       "      <td>3.300000</td>\n",
       "      <td>5.100000</td>\n",
       "      <td>1.800000</td>\n",
       "    </tr>\n",
       "    <tr>\n",
       "      <th>max</th>\n",
       "      <td>7.900000</td>\n",
       "      <td>4.400000</td>\n",
       "      <td>6.900000</td>\n",
       "      <td>2.500000</td>\n",
       "    </tr>\n",
       "  </tbody>\n",
       "</table>\n",
       "</div>"
      ],
      "text/plain": [
       "       longitud_sepalo  ancho_sepalo  longitud_petalo  ancho_petalo\n",
       "count       150.000000    150.000000       150.000000    150.000000\n",
       "mean          5.843333      3.054000         3.758667      1.198667\n",
       "std           0.828066      0.433594         1.764420      0.763161\n",
       "min           4.300000      2.000000         1.000000      0.100000\n",
       "25%           5.100000      2.800000         1.600000      0.300000\n",
       "50%           5.800000      3.000000         4.350000      1.300000\n",
       "75%           6.400000      3.300000         5.100000      1.800000\n",
       "max           7.900000      4.400000         6.900000      2.500000"
      ]
     },
     "execution_count": 729,
     "metadata": {},
     "output_type": "execute_result"
    }
   ],
   "source": [
    "numeric_columns.describe()"
   ]
  },
  {
   "cell_type": "code",
   "execution_count": 730,
   "id": "6712f55e",
   "metadata": {
    "scrolled": true
   },
   "outputs": [
    {
     "data": {
      "text/plain": [
       "longitud_sepalo    5.1\n",
       "ancho_sepalo       2.8\n",
       "longitud_petalo    1.6\n",
       "ancho_petalo       0.3\n",
       "Name: 0.25, dtype: float64"
      ]
     },
     "execution_count": 730,
     "metadata": {},
     "output_type": "execute_result"
    }
   ],
   "source": [
    "Q1 = numeric_columns.quantile(0.25)\n",
    "Q1"
   ]
  },
  {
   "cell_type": "code",
   "execution_count": 731,
   "id": "16a3bc3f",
   "metadata": {
    "scrolled": false
   },
   "outputs": [
    {
     "data": {
      "text/plain": [
       "longitud_sepalo    6.4\n",
       "ancho_sepalo       3.3\n",
       "longitud_petalo    5.1\n",
       "ancho_petalo       1.8\n",
       "Name: 0.75, dtype: float64"
      ]
     },
     "execution_count": 731,
     "metadata": {},
     "output_type": "execute_result"
    }
   ],
   "source": [
    "Q3 = numeric_columns.quantile(0.75)\n",
    "Q3"
   ]
  },
  {
   "cell_type": "code",
   "execution_count": 732,
   "id": "f0f4b9ae",
   "metadata": {
    "scrolled": true
   },
   "outputs": [
    {
     "data": {
      "text/plain": [
       "longitud_sepalo    1.3\n",
       "ancho_sepalo       0.5\n",
       "longitud_petalo    3.5\n",
       "ancho_petalo       1.5\n",
       "dtype: float64"
      ]
     },
     "execution_count": 732,
     "metadata": {},
     "output_type": "execute_result"
    }
   ],
   "source": [
    "# Rango intercuartil (IQR)\n",
    "IQR = Q3 - Q1\n",
    "IQR"
   ]
  },
  {
   "cell_type": "code",
   "execution_count": 733,
   "id": "4cc72de6",
   "metadata": {},
   "outputs": [
    {
     "data": {
      "text/plain": [
       "longitud_sepalo    3.15\n",
       "ancho_sepalo       2.05\n",
       "longitud_petalo   -3.65\n",
       "ancho_petalo      -1.95\n",
       "dtype: float64"
      ]
     },
     "execution_count": 733,
     "metadata": {},
     "output_type": "execute_result"
    }
   ],
   "source": [
    "lower_limit = Q1 - 1.5 * IQR\n",
    "lower_limit"
   ]
  },
  {
   "cell_type": "code",
   "execution_count": 734,
   "id": "2f01ad17",
   "metadata": {},
   "outputs": [
    {
     "data": {
      "text/plain": [
       "longitud_sepalo     8.35\n",
       "ancho_sepalo        4.05\n",
       "longitud_petalo    10.35\n",
       "ancho_petalo        4.05\n",
       "dtype: float64"
      ]
     },
     "execution_count": 734,
     "metadata": {},
     "output_type": "execute_result"
    }
   ],
   "source": [
    "upper_limit = Q3 + 1.5 * IQR\n",
    "upper_limit"
   ]
  },
  {
   "cell_type": "code",
   "execution_count": 735,
   "id": "d726b43b",
   "metadata": {},
   "outputs": [
    {
     "data": {
      "text/html": [
       "<div>\n",
       "<style scoped>\n",
       "    .dataframe tbody tr th:only-of-type {\n",
       "        vertical-align: middle;\n",
       "    }\n",
       "\n",
       "    .dataframe tbody tr th {\n",
       "        vertical-align: top;\n",
       "    }\n",
       "\n",
       "    .dataframe thead th {\n",
       "        text-align: right;\n",
       "    }\n",
       "</style>\n",
       "<table border=\"1\" class=\"dataframe\">\n",
       "  <thead>\n",
       "    <tr style=\"text-align: right;\">\n",
       "      <th></th>\n",
       "      <th>longitud_sepalo</th>\n",
       "      <th>ancho_sepalo</th>\n",
       "      <th>longitud_petalo</th>\n",
       "      <th>ancho_petalo</th>\n",
       "    </tr>\n",
       "  </thead>\n",
       "  <tbody>\n",
       "    <tr>\n",
       "      <th>0</th>\n",
       "      <td>NaN</td>\n",
       "      <td>NaN</td>\n",
       "      <td>NaN</td>\n",
       "      <td>NaN</td>\n",
       "    </tr>\n",
       "    <tr>\n",
       "      <th>1</th>\n",
       "      <td>NaN</td>\n",
       "      <td>NaN</td>\n",
       "      <td>NaN</td>\n",
       "      <td>NaN</td>\n",
       "    </tr>\n",
       "    <tr>\n",
       "      <th>2</th>\n",
       "      <td>NaN</td>\n",
       "      <td>NaN</td>\n",
       "      <td>NaN</td>\n",
       "      <td>NaN</td>\n",
       "    </tr>\n",
       "    <tr>\n",
       "      <th>3</th>\n",
       "      <td>NaN</td>\n",
       "      <td>NaN</td>\n",
       "      <td>NaN</td>\n",
       "      <td>NaN</td>\n",
       "    </tr>\n",
       "    <tr>\n",
       "      <th>4</th>\n",
       "      <td>NaN</td>\n",
       "      <td>NaN</td>\n",
       "      <td>NaN</td>\n",
       "      <td>NaN</td>\n",
       "    </tr>\n",
       "    <tr>\n",
       "      <th>...</th>\n",
       "      <td>...</td>\n",
       "      <td>...</td>\n",
       "      <td>...</td>\n",
       "      <td>...</td>\n",
       "    </tr>\n",
       "    <tr>\n",
       "      <th>145</th>\n",
       "      <td>NaN</td>\n",
       "      <td>NaN</td>\n",
       "      <td>NaN</td>\n",
       "      <td>NaN</td>\n",
       "    </tr>\n",
       "    <tr>\n",
       "      <th>146</th>\n",
       "      <td>NaN</td>\n",
       "      <td>NaN</td>\n",
       "      <td>NaN</td>\n",
       "      <td>NaN</td>\n",
       "    </tr>\n",
       "    <tr>\n",
       "      <th>147</th>\n",
       "      <td>NaN</td>\n",
       "      <td>NaN</td>\n",
       "      <td>NaN</td>\n",
       "      <td>NaN</td>\n",
       "    </tr>\n",
       "    <tr>\n",
       "      <th>148</th>\n",
       "      <td>NaN</td>\n",
       "      <td>NaN</td>\n",
       "      <td>NaN</td>\n",
       "      <td>NaN</td>\n",
       "    </tr>\n",
       "    <tr>\n",
       "      <th>149</th>\n",
       "      <td>NaN</td>\n",
       "      <td>NaN</td>\n",
       "      <td>NaN</td>\n",
       "      <td>NaN</td>\n",
       "    </tr>\n",
       "  </tbody>\n",
       "</table>\n",
       "<p>150 rows × 4 columns</p>\n",
       "</div>"
      ],
      "text/plain": [
       "     longitud_sepalo  ancho_sepalo  longitud_petalo  ancho_petalo\n",
       "0                NaN           NaN              NaN           NaN\n",
       "1                NaN           NaN              NaN           NaN\n",
       "2                NaN           NaN              NaN           NaN\n",
       "3                NaN           NaN              NaN           NaN\n",
       "4                NaN           NaN              NaN           NaN\n",
       "..               ...           ...              ...           ...\n",
       "145              NaN           NaN              NaN           NaN\n",
       "146              NaN           NaN              NaN           NaN\n",
       "147              NaN           NaN              NaN           NaN\n",
       "148              NaN           NaN              NaN           NaN\n",
       "149              NaN           NaN              NaN           NaN\n",
       "\n",
       "[150 rows x 4 columns]"
      ]
     },
     "execution_count": 735,
     "metadata": {},
     "output_type": "execute_result"
    }
   ],
   "source": [
    "outliers = numeric_columns[(numeric_columns < lower_limit) | (numeric_columns > upper_limit)]\n",
    "outliers"
   ]
  },
  {
   "cell_type": "markdown",
   "id": "15cd9edc",
   "metadata": {},
   "source": [
    "## Transformación y normalización de datos."
   ]
  },
  {
   "cell_type": "markdown",
   "id": "14862725",
   "metadata": {},
   "source": [
    "### Transformación logaritmica "
   ]
  },
  {
   "cell_type": "code",
   "execution_count": 736,
   "id": "675fb0b0",
   "metadata": {},
   "outputs": [],
   "source": [
    "import numpy as np"
   ]
  },
  {
   "cell_type": "code",
   "execution_count": 737,
   "id": "1a1875c4",
   "metadata": {},
   "outputs": [
    {
     "data": {
      "image/png": "[encoded data removed]",
      "text/plain": [
       "<Figure size 640x480 with 1 Axes>"
      ]
     },
     "metadata": {},
     "output_type": "display_data"
    }
   ],
   "source": [
    "# Supongamos que queremos transformar en logaritmo la columna 'longitud_sepalo'\n",
    "longitud_sepalo_transformada = np.log(data['longitud_sepalo'])\n",
    "\n",
    "# Verificar la distribución de la columna transformada\n",
    "plt.hist(longitud_sepalo_transformada, bins='auto')\n",
    "plt.xlabel('Logaritmo de longitud del sépalo')\n",
    "plt.ylabel('Frecuencia')\n",
    "plt.title('Histograma de la transformación logarítmica de longitud del sépalo')\n",
    "plt.show()"
   ]
  },
  {
   "cell_type": "markdown",
   "id": "c46b6c28",
   "metadata": {},
   "source": [
    "### Normalizacion de los datos "
   ]
  },
  {
   "cell_type": "code",
   "execution_count": 738,
   "id": "c093945e",
   "metadata": {},
   "outputs": [],
   "source": [
    "import pandas as pd\n",
    "from sklearn.preprocessing import MinMaxScaler"
   ]
  },
  {
   "cell_type": "code",
   "execution_count": 739,
   "id": "ad46bdd7",
   "metadata": {},
   "outputs": [],
   "source": [
    "# Seleccionamos las características numéricas en nuestro conjunto de datos\n",
    "numeric_columns = data.select_dtypes(include='float64')"
   ]
  },
  {
   "cell_type": "code",
   "execution_count": 740,
   "id": "b103f8a6",
   "metadata": {},
   "outputs": [],
   "source": [
    "# Creamos una instancia del escalador min-max\n",
    "scaler = MinMaxScaler()"
   ]
  },
  {
   "cell_type": "code",
   "execution_count": 741,
   "id": "5d668491",
   "metadata": {},
   "outputs": [],
   "source": [
    "# Ajustamos y transformamos los datos utilizando el escalador\n",
    "normalized_data = scaler.fit_transform(numeric_columns)"
   ]
  },
  {
   "cell_type": "code",
   "execution_count": 742,
   "id": "122e7d68",
   "metadata": {},
   "outputs": [],
   "source": [
    "# Podemos convertirlo de nuevo en un DataFrame de pandas y asignar los nombres de las columnas\n",
    "normalized_df = pd.DataFrame(normalized_data, columns=numeric_columns.columns)"
   ]
  },
  {
   "cell_type": "code",
   "execution_count": 743,
   "id": "146fae65",
   "metadata": {},
   "outputs": [
    {
     "data": {
      "text/html": [
       "<div>\n",
       "<style scoped>\n",
       "    .dataframe tbody tr th:only-of-type {\n",
       "        vertical-align: middle;\n",
       "    }\n",
       "\n",
       "    .dataframe tbody tr th {\n",
       "        vertical-align: top;\n",
       "    }\n",
       "\n",
       "    .dataframe thead th {\n",
       "        text-align: right;\n",
       "    }\n",
       "</style>\n",
       "<table border=\"1\" class=\"dataframe\">\n",
       "  <thead>\n",
       "    <tr style=\"text-align: right;\">\n",
       "      <th></th>\n",
       "      <th>longitud_sepalo</th>\n",
       "      <th>ancho_sepalo</th>\n",
       "      <th>longitud_petalo</th>\n",
       "      <th>ancho_petalo</th>\n",
       "    </tr>\n",
       "  </thead>\n",
       "  <tbody>\n",
       "    <tr>\n",
       "      <th>0</th>\n",
       "      <td>0.222222</td>\n",
       "      <td>0.625000</td>\n",
       "      <td>0.067797</td>\n",
       "      <td>0.041667</td>\n",
       "    </tr>\n",
       "    <tr>\n",
       "      <th>1</th>\n",
       "      <td>0.166667</td>\n",
       "      <td>0.416667</td>\n",
       "      <td>0.067797</td>\n",
       "      <td>0.041667</td>\n",
       "    </tr>\n",
       "    <tr>\n",
       "      <th>2</th>\n",
       "      <td>0.111111</td>\n",
       "      <td>0.500000</td>\n",
       "      <td>0.050847</td>\n",
       "      <td>0.041667</td>\n",
       "    </tr>\n",
       "    <tr>\n",
       "      <th>3</th>\n",
       "      <td>0.083333</td>\n",
       "      <td>0.458333</td>\n",
       "      <td>0.084746</td>\n",
       "      <td>0.041667</td>\n",
       "    </tr>\n",
       "    <tr>\n",
       "      <th>4</th>\n",
       "      <td>0.194444</td>\n",
       "      <td>0.666667</td>\n",
       "      <td>0.067797</td>\n",
       "      <td>0.041667</td>\n",
       "    </tr>\n",
       "    <tr>\n",
       "      <th>...</th>\n",
       "      <td>...</td>\n",
       "      <td>...</td>\n",
       "      <td>...</td>\n",
       "      <td>...</td>\n",
       "    </tr>\n",
       "    <tr>\n",
       "      <th>145</th>\n",
       "      <td>0.666667</td>\n",
       "      <td>0.416667</td>\n",
       "      <td>0.711864</td>\n",
       "      <td>0.916667</td>\n",
       "    </tr>\n",
       "    <tr>\n",
       "      <th>146</th>\n",
       "      <td>0.555556</td>\n",
       "      <td>0.208333</td>\n",
       "      <td>0.677966</td>\n",
       "      <td>0.750000</td>\n",
       "    </tr>\n",
       "    <tr>\n",
       "      <th>147</th>\n",
       "      <td>0.611111</td>\n",
       "      <td>0.416667</td>\n",
       "      <td>0.711864</td>\n",
       "      <td>0.791667</td>\n",
       "    </tr>\n",
       "    <tr>\n",
       "      <th>148</th>\n",
       "      <td>0.527778</td>\n",
       "      <td>0.583333</td>\n",
       "      <td>0.745763</td>\n",
       "      <td>0.916667</td>\n",
       "    </tr>\n",
       "    <tr>\n",
       "      <th>149</th>\n",
       "      <td>0.444444</td>\n",
       "      <td>0.416667</td>\n",
       "      <td>0.694915</td>\n",
       "      <td>0.708333</td>\n",
       "    </tr>\n",
       "  </tbody>\n",
       "</table>\n",
       "<p>150 rows × 4 columns</p>\n",
       "</div>"
      ],
      "text/plain": [
       "     longitud_sepalo  ancho_sepalo  longitud_petalo  ancho_petalo\n",
       "0           0.222222      0.625000         0.067797      0.041667\n",
       "1           0.166667      0.416667         0.067797      0.041667\n",
       "2           0.111111      0.500000         0.050847      0.041667\n",
       "3           0.083333      0.458333         0.084746      0.041667\n",
       "4           0.194444      0.666667         0.067797      0.041667\n",
       "..               ...           ...              ...           ...\n",
       "145         0.666667      0.416667         0.711864      0.916667\n",
       "146         0.555556      0.208333         0.677966      0.750000\n",
       "147         0.611111      0.416667         0.711864      0.791667\n",
       "148         0.527778      0.583333         0.745763      0.916667\n",
       "149         0.444444      0.416667         0.694915      0.708333\n",
       "\n",
       "[150 rows x 4 columns]"
      ]
     },
     "execution_count": 743,
     "metadata": {},
     "output_type": "execute_result"
    }
   ],
   "source": [
    "normalized_df"
   ]
  },
  {
   "cell_type": "code",
   "execution_count": 744,
   "id": "61a89a87",
   "metadata": {},
   "outputs": [
    {
     "data": {
      "image/png": "[encoded data removed]",
      "text/plain": [
       "<Figure size 640x480 with 1 Axes>"
      ]
     },
     "metadata": {},
     "output_type": "display_data"
    }
   ],
   "source": [
    "# Obtener los valores de longitud del sépalo\n",
    "longitud_sepalo = normalized_df['longitud_sepalo']\n",
    "\n",
    "# Crear el histograma\n",
    "plt.hist(longitud_sepalo, bins='auto')\n",
    "plt.xlabel('Longitud del Sépalo')\n",
    "plt.ylabel('Frecuencia')\n",
    "plt.title('Histograma de Longitud del Sépalo con valores normalizados')\n",
    "plt.show()"
   ]
  },
  {
   "cell_type": "code",
   "execution_count": 745,
   "id": "d358a0db",
   "metadata": {},
   "outputs": [],
   "source": [
    "from sklearn.preprocessing import StandardScaler"
   ]
  },
  {
   "cell_type": "code",
   "execution_count": 746,
   "id": "68bc4635",
   "metadata": {},
   "outputs": [],
   "source": [
    "scaler = StandardScaler()"
   ]
  },
  {
   "cell_type": "code",
   "execution_count": 747,
   "id": "8074d2d3",
   "metadata": {},
   "outputs": [],
   "source": [
    "estandarized_data = scaler.fit_transform(numeric_columns)"
   ]
  },
  {
   "cell_type": "code",
   "execution_count": 748,
   "id": "0e9df844",
   "metadata": {},
   "outputs": [],
   "source": [
    "estandarized_df = pd.DataFrame(estandarized_data, columns=numeric_columns.columns)"
   ]
  },
  {
   "cell_type": "code",
   "execution_count": 749,
   "id": "4d6b2cfd",
   "metadata": {},
   "outputs": [
    {
     "data": {
      "text/html": [
       "<div>\n",
       "<style scoped>\n",
       "    .dataframe tbody tr th:only-of-type {\n",
       "        vertical-align: middle;\n",
       "    }\n",
       "\n",
       "    .dataframe tbody tr th {\n",
       "        vertical-align: top;\n",
       "    }\n",
       "\n",
       "    .dataframe thead th {\n",
       "        text-align: right;\n",
       "    }\n",
       "</style>\n",
       "<table border=\"1\" class=\"dataframe\">\n",
       "  <thead>\n",
       "    <tr style=\"text-align: right;\">\n",
       "      <th></th>\n",
       "      <th>longitud_sepalo</th>\n",
       "      <th>ancho_sepalo</th>\n",
       "      <th>longitud_petalo</th>\n",
       "      <th>ancho_petalo</th>\n",
       "    </tr>\n",
       "  </thead>\n",
       "  <tbody>\n",
       "    <tr>\n",
       "      <th>0</th>\n",
       "      <td>-0.900681</td>\n",
       "      <td>1.032057</td>\n",
       "      <td>-1.341272</td>\n",
       "      <td>-1.312977</td>\n",
       "    </tr>\n",
       "    <tr>\n",
       "      <th>1</th>\n",
       "      <td>-1.143017</td>\n",
       "      <td>-0.124958</td>\n",
       "      <td>-1.341272</td>\n",
       "      <td>-1.312977</td>\n",
       "    </tr>\n",
       "    <tr>\n",
       "      <th>2</th>\n",
       "      <td>-1.385353</td>\n",
       "      <td>0.337848</td>\n",
       "      <td>-1.398138</td>\n",
       "      <td>-1.312977</td>\n",
       "    </tr>\n",
       "    <tr>\n",
       "      <th>3</th>\n",
       "      <td>-1.506521</td>\n",
       "      <td>0.106445</td>\n",
       "      <td>-1.284407</td>\n",
       "      <td>-1.312977</td>\n",
       "    </tr>\n",
       "    <tr>\n",
       "      <th>4</th>\n",
       "      <td>-1.021849</td>\n",
       "      <td>1.263460</td>\n",
       "      <td>-1.341272</td>\n",
       "      <td>-1.312977</td>\n",
       "    </tr>\n",
       "    <tr>\n",
       "      <th>...</th>\n",
       "      <td>...</td>\n",
       "      <td>...</td>\n",
       "      <td>...</td>\n",
       "      <td>...</td>\n",
       "    </tr>\n",
       "    <tr>\n",
       "      <th>145</th>\n",
       "      <td>1.038005</td>\n",
       "      <td>-0.124958</td>\n",
       "      <td>0.819624</td>\n",
       "      <td>1.447956</td>\n",
       "    </tr>\n",
       "    <tr>\n",
       "      <th>146</th>\n",
       "      <td>0.553333</td>\n",
       "      <td>-1.281972</td>\n",
       "      <td>0.705893</td>\n",
       "      <td>0.922064</td>\n",
       "    </tr>\n",
       "    <tr>\n",
       "      <th>147</th>\n",
       "      <td>0.795669</td>\n",
       "      <td>-0.124958</td>\n",
       "      <td>0.819624</td>\n",
       "      <td>1.053537</td>\n",
       "    </tr>\n",
       "    <tr>\n",
       "      <th>148</th>\n",
       "      <td>0.432165</td>\n",
       "      <td>0.800654</td>\n",
       "      <td>0.933356</td>\n",
       "      <td>1.447956</td>\n",
       "    </tr>\n",
       "    <tr>\n",
       "      <th>149</th>\n",
       "      <td>0.068662</td>\n",
       "      <td>-0.124958</td>\n",
       "      <td>0.762759</td>\n",
       "      <td>0.790591</td>\n",
       "    </tr>\n",
       "  </tbody>\n",
       "</table>\n",
       "<p>150 rows × 4 columns</p>\n",
       "</div>"
      ],
      "text/plain": [
       "     longitud_sepalo  ancho_sepalo  longitud_petalo  ancho_petalo\n",
       "0          -0.900681      1.032057        -1.341272     -1.312977\n",
       "1          -1.143017     -0.124958        -1.341272     -1.312977\n",
       "2          -1.385353      0.337848        -1.398138     -1.312977\n",
       "3          -1.506521      0.106445        -1.284407     -1.312977\n",
       "4          -1.021849      1.263460        -1.341272     -1.312977\n",
       "..               ...           ...              ...           ...\n",
       "145         1.038005     -0.124958         0.819624      1.447956\n",
       "146         0.553333     -1.281972         0.705893      0.922064\n",
       "147         0.795669     -0.124958         0.819624      1.053537\n",
       "148         0.432165      0.800654         0.933356      1.447956\n",
       "149         0.068662     -0.124958         0.762759      0.790591\n",
       "\n",
       "[150 rows x 4 columns]"
      ]
     },
     "execution_count": 749,
     "metadata": {},
     "output_type": "execute_result"
    }
   ],
   "source": [
    "estandarized_df"
   ]
  },
  {
   "cell_type": "code",
   "execution_count": 750,
   "id": "25674d1e",
   "metadata": {},
   "outputs": [
    {
     "data": {
      "image/png": "[encoded data removed]",
      "text/plain": [
       "<Figure size 640x480 with 1 Axes>"
      ]
     },
     "metadata": {},
     "output_type": "display_data"
    }
   ],
   "source": [
    "# Obtener los valores de longitud del sépalo\n",
    "longitud_sepalo = estandarized_df['longitud_sepalo']\n",
    "\n",
    "# Crear el histograma\n",
    "plt.hist(longitud_sepalo, bins='auto')\n",
    "plt.xlabel('Longitud del Sépalo')\n",
    "plt.ylabel('Frecuencia')\n",
    "plt.title('Histograma de Longitud del Sépalo con valores estandarizados')\n",
    "plt.show()"
   ]
  },
  {
   "cell_type": "markdown",
   "id": "4e7ee47e",
   "metadata": {},
   "source": [
    "## Detección y tratamiento de valores atípicos"
   ]
  },
  {
   "cell_type": "code",
   "execution_count": 751,
   "id": "630c6aa3",
   "metadata": {},
   "outputs": [
    {
     "name": "stdout",
     "output_type": "stream",
     "text": [
      "Valores atípicos: [105 117 118 122 131 135]\n"
     ]
    }
   ],
   "source": [
    "# Datos de la característica longitud_sepalo\n",
    "longitud_sepalo = data['longitud_sepalo'].values\n",
    "\n",
    "# Cálculo de los z-scores\n",
    "z_scores = (longitud_sepalo - np.mean(longitud_sepalo)) / np.std(longitud_sepalo)\n",
    "\n",
    "# Definición del umbral\n",
    "threshold = 2\n",
    "\n",
    "# Identificación de los valores atípicos\n",
    "outliers = np.where(np.abs(z_scores) > threshold)[0]\n",
    "\n",
    "print(\"Valores atípicos:\", outliers)"
   ]
  },
  {
   "cell_type": "code",
   "execution_count": 752,
   "id": "ca54b59e",
   "metadata": {},
   "outputs": [
    {
     "data": {
      "text/plain": [
       "array([5.1, 4.9, 4.7, 4.6, 5. , 5.4, 4.6, 5. , 4.4, 4.9, 5.4, 4.8, 4.8,\n",
       "       4.3, 5.8, 5.7, 5.4, 5.1, 5.7, 5.1, 5.4, 5.1, 4.6, 5.1, 4.8, 5. ,\n",
       "       5. , 5.2, 5.2, 4.7, 4.8, 5.4, 5.2, 5.5, 4.9, 5. , 5.5, 4.9, 4.4,\n",
       "       5.1, 5. , 4.5, 4.4, 5. , 5.1, 4.8, 5.1, 4.6, 5.3, 5. , 7. , 6.4,\n",
       "       6.9, 5.5, 6.5, 5.7, 6.3, 4.9, 6.6, 5.2, 5. , 5.9, 6. , 6.1, 5.6,\n",
       "       6.7, 5.6, 5.8, 6.2, 5.6, 5.9, 6.1, 6.3, 6.1, 6.4, 6.6, 6.8, 6.7,\n",
       "       6. , 5.7, 5.5, 5.5, 5.8, 6. , 5.4, 6. , 6.7, 6.3, 5.6, 5.5, 5.5,\n",
       "       6.1, 5.8, 5. , 5.6, 5.7, 5.7, 6.2, 5.1, 5.7, 6.3, 5.8, 7.1, 6.3,\n",
       "       6.5, 7.6, 4.9, 7.3, 6.7, 7.2, 6.5, 6.4, 6.8, 5.7, 5.8, 6.4, 6.5,\n",
       "       7.7, 7.7, 6. , 6.9, 5.6, 7.7, 6.3, 6.7, 7.2, 6.2, 6.1, 6.4, 7.2,\n",
       "       7.4, 7.9, 6.4, 6.3, 6.1, 7.7, 6.3, 6.4, 6. , 6.9, 6.7, 6.9, 5.8,\n",
       "       6.8, 6.7, 6.7, 6.3, 6.5, 6.2, 5.9])"
      ]
     },
     "execution_count": 752,
     "metadata": {},
     "output_type": "execute_result"
    }
   ],
   "source": [
    "data['longitud_sepalo'].values"
   ]
  },
  {
   "cell_type": "code",
   "execution_count": 753,
   "id": "fc427815",
   "metadata": {},
   "outputs": [
    {
     "name": "stdout",
     "output_type": "stream",
     "text": [
      "Z-score del valor original: -1.870024133847019\n"
     ]
    }
   ],
   "source": [
    "# Calcular la media y la desviación estándar del valor orginale 4.3\n",
    "valor_original = 4.3\n",
    "media = longitud_sepalo.mean()\n",
    "desviacion_estandar = longitud_sepalo.std()\n",
    "\n",
    "# Calcular el z-score\n",
    "z_score = (valor_original - media) / desviacion_estandar\n",
    "\n",
    "print(\"Z-score del valor original:\", z_score)"
   ]
  },
  {
   "cell_type": "code",
   "execution_count": 754,
   "id": "d6c64f2c",
   "metadata": {},
   "outputs": [
    {
     "name": "stdout",
     "output_type": "stream",
     "text": [
      "Z-score del valor original: 2.4920192021244283\n"
     ]
    }
   ],
   "source": [
    "valor_original = 7.9\n",
    "z_score = (valor_original - media) / desviacion_estandar\n",
    "print(\"Z-score del valor original:\", z_score)"
   ]
  },
  {
   "cell_type": "code",
   "execution_count": 755,
   "id": "e89cb579",
   "metadata": {},
   "outputs": [
    {
     "name": "stdout",
     "output_type": "stream",
     "text": [
      "Valores atípicos: [105 117 118 122 131 135]\n"
     ]
    }
   ],
   "source": [
    "# Datos de la característica longitud_sepalo\n",
    "longitud_sepalo = data['longitud_sepalo'].values\n",
    "# Cálculo de los z-scores\n",
    "z_scores = (longitud_sepalo - np.mean(longitud_sepalo)) / np.std(longitud_sepalo)\n",
    "# Definición del umbral\n",
    "threshold = 2\n",
    "# Identificación de los valores atípicos\n",
    "outliers = np.where(np.abs(z_scores) > threshold)[0]\n",
    "print(\"Valores atípicos:\", outliers)"
   ]
  },
  {
   "cell_type": "code",
   "execution_count": 756,
   "id": "1db14ee3",
   "metadata": {},
   "outputs": [
    {
     "name": "stdout",
     "output_type": "stream",
     "text": [
      "Indices de los valores atípicos: [105 117 118 122 131 135]\n"
     ]
    }
   ],
   "source": [
    "# Datos de la característica longitud_sepalo\n",
    "longitud_sepalo = data['longitud_sepalo'].values\n",
    "# Cálculo de los z-scores\n",
    "z_scores = (longitud_sepalo - np.mean(longitud_sepalo)) / np.std(longitud_sepalo)\n",
    "# Definición del umbral\n",
    "threshold = 2\n",
    "# Identificación de los valores atípicos\n",
    "outliers = np.where(np.abs(z_scores) > threshold)[0]\n",
    "print(\"Indices de los valores atípicos:\", outliers)"
   ]
  },
  {
   "cell_type": "code",
   "execution_count": 757,
   "id": "9cb6cb90",
   "metadata": {
    "scrolled": true
   },
   "outputs": [
    {
     "data": {
      "text/plain": [
       "105    7.6\n",
       "117    7.7\n",
       "118    7.7\n",
       "122    7.7\n",
       "131    7.9\n",
       "135    7.7\n",
       "Name: longitud_sepalo, dtype: float64"
      ]
     },
     "execution_count": 757,
     "metadata": {},
     "output_type": "execute_result"
    }
   ],
   "source": [
    "outliers = [105, 117, 118, 122, 131, 135]\n",
    "valores_atipicos = data['longitud_sepalo'].iloc[outliers]\n",
    "valores_atipicos"
   ]
  },
  {
   "cell_type": "code",
   "execution_count": 758,
   "id": "42ca567f",
   "metadata": {},
   "outputs": [
    {
     "data": {
      "image/png": "[encoded data removed]",
      "text/plain": [
       "<Figure size 640x480 with 1 Axes>"
      ]
     },
     "metadata": {},
     "output_type": "display_data"
    }
   ],
   "source": [
    "# Obtener los valores de longitud del sépalo\n",
    "longitud_sepalo = data['longitud_sepalo']\n",
    "\n",
    "# Crear el histograma\n",
    "plt.hist(longitud_sepalo, bins='auto')\n",
    "plt.xlabel('Longitud del Sépalo')\n",
    "plt.ylabel('Frecuencia')\n",
    "plt.title('Histograma de Longitud del Sépalo con intervalos (bins) automaticos')\n",
    "plt.show()"
   ]
  },
  {
   "cell_type": "code",
   "execution_count": 759,
   "id": "44f93bf9",
   "metadata": {},
   "outputs": [
    {
     "data": {
      "text/plain": [
       "array([7.9, 7.7, 7.7, 7.7, 7.7, 7.6, 7.4, 7.3, 7.2, 7.2, 7.2, 7.1, 7. ,\n",
       "       6.9, 6.9, 6.9, 6.9, 6.8, 6.8, 6.8, 6.7, 6.7, 6.7, 6.7, 6.7, 6.7,\n",
       "       6.7, 6.7, 6.6, 6.6, 6.5, 6.5, 6.5, 6.5, 6.5, 6.4, 6.4, 6.4, 6.4,\n",
       "       6.4, 6.4, 6.4, 6.3, 6.3, 6.3, 6.3, 6.3, 6.3, 6.3, 6.3, 6.3, 6.2,\n",
       "       6.2, 6.2, 6.2, 6.1, 6.1, 6.1, 6.1, 6.1, 6.1, 6. , 6. , 6. , 6. ,\n",
       "       6. , 6. , 5.9, 5.9, 5.9, 5.8, 5.8, 5.8, 5.8, 5.8, 5.8, 5.8, 5.7,\n",
       "       5.7, 5.7, 5.7, 5.7, 5.7, 5.7, 5.7, 5.6, 5.6, 5.6, 5.6, 5.6, 5.6,\n",
       "       5.5, 5.5, 5.5, 5.5, 5.5, 5.5, 5.5, 5.4, 5.4, 5.4, 5.4, 5.4, 5.4,\n",
       "       5.3, 5.2, 5.2, 5.2, 5.2, 5.1, 5.1, 5.1, 5.1, 5.1, 5.1, 5.1, 5.1,\n",
       "       5.1, 5. , 5. , 5. , 5. , 5. , 5. , 5. , 5. , 5. , 5. , 4.9, 4.9,\n",
       "       4.9, 4.9, 4.9, 4.9, 4.8, 4.8, 4.8, 4.8, 4.8, 4.7, 4.7, 4.6, 4.6,\n",
       "       4.6, 4.6, 4.5, 4.4, 4.4, 4.4, 4.3])"
      ]
     },
     "execution_count": 759,
     "metadata": {},
     "output_type": "execute_result"
    }
   ],
   "source": [
    "# Ordenar los valores de forma decreciente\n",
    "longitud_sepalo_ordenados = np.sort(longitud_sepalo)[::-1]\n",
    "longitud_sepalo_ordenados"
   ]
  },
  {
   "cell_type": "markdown",
   "id": "dc7c8f8b",
   "metadata": {},
   "source": [
    "Efectivamente los valores extremos 7.9, 7.7, 7.7, 7.7, 7.7, 7.6 son los valores atipicos. A demostracion de este, sus z-score exceden el dominio [-2,2]"
   ]
  },
  {
   "cell_type": "markdown",
   "id": "87f6b3f4",
   "metadata": {},
   "source": [
    "# Ingeniería de características (feature engineering) y la selección de características (feature selection)."
   ]
  },
  {
   "cell_type": "markdown",
   "id": "1d3c8549",
   "metadata": {},
   "source": [
    "## Ingeniería de características (Feature Engineering)"
   ]
  },
  {
   "cell_type": "markdown",
   "id": "d5f12e67",
   "metadata": {},
   "source": [
    "### Creación de características polinómicas"
   ]
  },
  {
   "cell_type": "code",
   "execution_count": 760,
   "id": "9663e0ef",
   "metadata": {},
   "outputs": [
    {
     "name": "stdout",
     "output_type": "stream",
     "text": [
      "   longitud_sepalo  ancho_sepalo  longitud_petalo  ancho_petalo  \\\n",
      "0              5.1           3.5              1.4           0.2   \n",
      "1              4.9           3.0              1.4           0.2   \n",
      "2              4.7           3.2              1.3           0.2   \n",
      "3              4.6           3.1              1.5           0.2   \n",
      "4              5.0           3.6              1.4           0.2   \n",
      "\n",
      "   longitud_sepalo^2  longitud_sepalo*ancho_sepalo  \\\n",
      "0              26.01                         17.85   \n",
      "1              24.01                         14.70   \n",
      "2              22.09                         15.04   \n",
      "3              21.16                         14.26   \n",
      "4              25.00                         18.00   \n",
      "\n",
      "   longitud_sepalo*longitud_petalo  longitud_sepalo*ancho_petalo  \\\n",
      "0                             7.14                          1.02   \n",
      "1                             6.86                          0.98   \n",
      "2                             6.11                          0.94   \n",
      "3                             6.90                          0.92   \n",
      "4                             7.00                          1.00   \n",
      "\n",
      "   ancho_sepalo^2  ancho_sepalo*longitud_petalo  ancho_sepalo*ancho_petalo  \\\n",
      "0           12.25                          4.90                       0.70   \n",
      "1            9.00                          4.20                       0.60   \n",
      "2           10.24                          4.16                       0.64   \n",
      "3            9.61                          4.65                       0.62   \n",
      "4           12.96                          5.04                       0.72   \n",
      "\n",
      "   longitud_petalo^2  longitud_petalo*ancho_petalo  ancho_petalo^2  \n",
      "0               1.96                          0.28            0.04  \n",
      "1               1.96                          0.28            0.04  \n",
      "2               1.69                          0.26            0.04  \n",
      "3               2.25                          0.30            0.04  \n",
      "4               1.96                          0.28            0.04  \n"
     ]
    }
   ],
   "source": [
    "from sklearn.preprocessing import PolynomialFeatures\n",
    "\n",
    "# Datos originales\n",
    "X = data[['longitud_sepalo', 'ancho_sepalo', 'longitud_petalo', 'ancho_petalo']]\n",
    "\n",
    "# Grado del polinomio a generar\n",
    "grado = 2\n",
    "\n",
    "# Crear características polinómicas\n",
    "poly_features = PolynomialFeatures(degree=grado, include_bias=False)\n",
    "X_poly = poly_features.fit_transform(X)\n",
    "\n",
    "# Obtener los índices generados por PolynomialFeatures\n",
    "poly_feature_indices = poly_features.powers_\n",
    "\n",
    "# Obtener los nombres de las características polinómicas\n",
    "feature_names = X.columns\n",
    "poly_feature_names = []\n",
    "\n",
    "for feature_indices in poly_feature_indices:\n",
    "    if feature_indices.sum() > 1:\n",
    "        # Combinar los nombres de las características originales\n",
    "        names = []\n",
    "        for i, power in enumerate(feature_indices):\n",
    "            if power > 0:\n",
    "                name = feature_names[i]\n",
    "                if power == 1:\n",
    "                    names.append(name)\n",
    "                else:\n",
    "                    names.append(f\"{name}^{power}\")\n",
    "        poly_feature_names.append('*'.join(names))\n",
    "    else:\n",
    "        # Si es una característica original, mantener el nombre original\n",
    "        index = feature_indices.argmax()\n",
    "        poly_feature_names.append(feature_names[index])\n",
    "\n",
    "# Crear un nuevo DataFrame con las características polinómicas\n",
    "X_poly_df = pd.DataFrame(X_poly, columns=poly_feature_names)\n",
    "\n",
    "# Visualizar el nuevo DataFrame con las características polinómicas\n",
    "print(X_poly_df.head())"
   ]
  },
  {
   "cell_type": "markdown",
   "id": "a7793c7e",
   "metadata": {},
   "source": [
    "Al aplicar la transformación polinómica de grado 2 a las 4 características originales, se generan 10 nuevas características derivadas. Esto se debe a que, para cada combinación de las características originales, se generan términos de grado 2, incluyendo los términos individuales y las interacciones entre las características. Esto aumenta el número total de características a 10 en este caso."
   ]
  },
  {
   "cell_type": "markdown",
   "id": "1ee04977",
   "metadata": {},
   "source": [
    "La fórmula para calcular el número de características derivadas generadas por una transformación polinómica de grado 2 a partir de n características originales es:\n",
    "\n",
    "Número de características derivadas = n + (n-1) + (n-2) + ... + 1\n",
    "\n",
    "\n",
    "Donde:\n",
    "\n",
    "m es el número de características originales y\n",
    "n es el grado de la transformación polinómica."
   ]
  },
  {
   "cell_type": "markdown",
   "id": "dd3400af",
   "metadata": {},
   "source": [
    "### Transformaciones logarítmicas y exponenciales"
   ]
  },
  {
   "cell_type": "code",
   "execution_count": 761,
   "id": "5520ac64",
   "metadata": {},
   "outputs": [
    {
     "data": {
      "text/html": [
       "<div>\n",
       "<style scoped>\n",
       "    .dataframe tbody tr th:only-of-type {\n",
       "        vertical-align: middle;\n",
       "    }\n",
       "\n",
       "    .dataframe tbody tr th {\n",
       "        vertical-align: top;\n",
       "    }\n",
       "\n",
       "    .dataframe thead th {\n",
       "        text-align: right;\n",
       "    }\n",
       "</style>\n",
       "<table border=\"1\" class=\"dataframe\">\n",
       "  <thead>\n",
       "    <tr style=\"text-align: right;\">\n",
       "      <th></th>\n",
       "      <th>Id</th>\n",
       "      <th>longitud_sepalo</th>\n",
       "      <th>ancho_sepalo</th>\n",
       "      <th>longitud_petalo</th>\n",
       "      <th>ancho_petalo</th>\n",
       "      <th>especie</th>\n",
       "    </tr>\n",
       "  </thead>\n",
       "  <tbody>\n",
       "    <tr>\n",
       "      <th>0</th>\n",
       "      <td>1</td>\n",
       "      <td>1.629241</td>\n",
       "      <td>1.252763</td>\n",
       "      <td>0.336472</td>\n",
       "      <td>-1.609438</td>\n",
       "      <td>Iris-setosa</td>\n",
       "    </tr>\n",
       "    <tr>\n",
       "      <th>1</th>\n",
       "      <td>2</td>\n",
       "      <td>1.589235</td>\n",
       "      <td>1.098612</td>\n",
       "      <td>0.336472</td>\n",
       "      <td>-1.609438</td>\n",
       "      <td>Iris-setosa</td>\n",
       "    </tr>\n",
       "    <tr>\n",
       "      <th>2</th>\n",
       "      <td>3</td>\n",
       "      <td>1.547563</td>\n",
       "      <td>1.163151</td>\n",
       "      <td>0.262364</td>\n",
       "      <td>-1.609438</td>\n",
       "      <td>Iris-setosa</td>\n",
       "    </tr>\n",
       "    <tr>\n",
       "      <th>3</th>\n",
       "      <td>4</td>\n",
       "      <td>1.526056</td>\n",
       "      <td>1.131402</td>\n",
       "      <td>0.405465</td>\n",
       "      <td>-1.609438</td>\n",
       "      <td>Iris-setosa</td>\n",
       "    </tr>\n",
       "    <tr>\n",
       "      <th>4</th>\n",
       "      <td>5</td>\n",
       "      <td>1.609438</td>\n",
       "      <td>1.280934</td>\n",
       "      <td>0.336472</td>\n",
       "      <td>-1.609438</td>\n",
       "      <td>Iris-setosa</td>\n",
       "    </tr>\n",
       "  </tbody>\n",
       "</table>\n",
       "</div>"
      ],
      "text/plain": [
       "   Id  longitud_sepalo  ancho_sepalo  longitud_petalo  ancho_petalo  \\\n",
       "0   1         1.629241      1.252763         0.336472     -1.609438   \n",
       "1   2         1.589235      1.098612         0.336472     -1.609438   \n",
       "2   3         1.547563      1.163151         0.262364     -1.609438   \n",
       "3   4         1.526056      1.131402         0.405465     -1.609438   \n",
       "4   5         1.609438      1.280934         0.336472     -1.609438   \n",
       "\n",
       "       especie  \n",
       "0  Iris-setosa  \n",
       "1  Iris-setosa  \n",
       "2  Iris-setosa  \n",
       "3  Iris-setosa  \n",
       "4  Iris-setosa  "
      ]
     },
     "execution_count": 761,
     "metadata": {},
     "output_type": "execute_result"
    }
   ],
   "source": [
    "import numpy as np\n",
    "\n",
    "# Crear un nuevo DataFrame \n",
    "data_log = data.copy()\n",
    "\n",
    "# Selecciona las columnas deseadas\n",
    "columns_to_transform = ['longitud_sepalo', 'ancho_sepalo', 'longitud_petalo', 'ancho_petalo']\n",
    "\n",
    "# Aplica la transformación logarítmica a las columnas seleccionadas\n",
    "data_log[columns_to_transform] = np.log(data_log[columns_to_transform])\n",
    "\n",
    "data_log.head()"
   ]
  },
  {
   "cell_type": "code",
   "execution_count": 762,
   "id": "673f6eb9",
   "metadata": {},
   "outputs": [
    {
     "data": {
      "text/html": [
       "<div>\n",
       "<style scoped>\n",
       "    .dataframe tbody tr th:only-of-type {\n",
       "        vertical-align: middle;\n",
       "    }\n",
       "\n",
       "    .dataframe tbody tr th {\n",
       "        vertical-align: top;\n",
       "    }\n",
       "\n",
       "    .dataframe thead th {\n",
       "        text-align: right;\n",
       "    }\n",
       "</style>\n",
       "<table border=\"1\" class=\"dataframe\">\n",
       "  <thead>\n",
       "    <tr style=\"text-align: right;\">\n",
       "      <th></th>\n",
       "      <th>Id</th>\n",
       "      <th>longitud_sepalo</th>\n",
       "      <th>ancho_sepalo</th>\n",
       "      <th>longitud_petalo</th>\n",
       "      <th>ancho_petalo</th>\n",
       "      <th>especie</th>\n",
       "    </tr>\n",
       "  </thead>\n",
       "  <tbody>\n",
       "    <tr>\n",
       "      <th>0</th>\n",
       "      <td>1</td>\n",
       "      <td>164.021907</td>\n",
       "      <td>33.115452</td>\n",
       "      <td>4.055200</td>\n",
       "      <td>1.221403</td>\n",
       "      <td>Iris-setosa</td>\n",
       "    </tr>\n",
       "    <tr>\n",
       "      <th>1</th>\n",
       "      <td>2</td>\n",
       "      <td>134.289780</td>\n",
       "      <td>20.085537</td>\n",
       "      <td>4.055200</td>\n",
       "      <td>1.221403</td>\n",
       "      <td>Iris-setosa</td>\n",
       "    </tr>\n",
       "    <tr>\n",
       "      <th>2</th>\n",
       "      <td>3</td>\n",
       "      <td>109.947172</td>\n",
       "      <td>24.532530</td>\n",
       "      <td>3.669297</td>\n",
       "      <td>1.221403</td>\n",
       "      <td>Iris-setosa</td>\n",
       "    </tr>\n",
       "    <tr>\n",
       "      <th>3</th>\n",
       "      <td>4</td>\n",
       "      <td>99.484316</td>\n",
       "      <td>22.197951</td>\n",
       "      <td>4.481689</td>\n",
       "      <td>1.221403</td>\n",
       "      <td>Iris-setosa</td>\n",
       "    </tr>\n",
       "    <tr>\n",
       "      <th>4</th>\n",
       "      <td>5</td>\n",
       "      <td>148.413159</td>\n",
       "      <td>36.598234</td>\n",
       "      <td>4.055200</td>\n",
       "      <td>1.221403</td>\n",
       "      <td>Iris-setosa</td>\n",
       "    </tr>\n",
       "  </tbody>\n",
       "</table>\n",
       "</div>"
      ],
      "text/plain": [
       "   Id  longitud_sepalo  ancho_sepalo  longitud_petalo  ancho_petalo  \\\n",
       "0   1       164.021907     33.115452         4.055200      1.221403   \n",
       "1   2       134.289780     20.085537         4.055200      1.221403   \n",
       "2   3       109.947172     24.532530         3.669297      1.221403   \n",
       "3   4        99.484316     22.197951         4.481689      1.221403   \n",
       "4   5       148.413159     36.598234         4.055200      1.221403   \n",
       "\n",
       "       especie  \n",
       "0  Iris-setosa  \n",
       "1  Iris-setosa  \n",
       "2  Iris-setosa  \n",
       "3  Iris-setosa  \n",
       "4  Iris-setosa  "
      ]
     },
     "execution_count": 762,
     "metadata": {},
     "output_type": "execute_result"
    }
   ],
   "source": [
    "# Crear una copia del dataframe original\n",
    "data_exp = data.copy()\n",
    "\n",
    "# Especificar las columnas a las que deseas aplicar la transformación exponencial\n",
    "columnas = ['longitud_sepalo', 'ancho_sepalo', 'longitud_petalo', 'ancho_petalo']\n",
    "\n",
    "# Aplicar la transformación exponencial a las columnas seleccionadas\n",
    "data_exp[columnas] = np.exp(data_exp[columnas])\n",
    "\n",
    "# Mostrar el nuevo dataframe con las transformaciones exponenciales\n",
    "data_exp.head()"
   ]
  },
  {
   "cell_type": "code",
   "execution_count": 763,
   "id": "65975dfd",
   "metadata": {},
   "outputs": [
    {
     "data": {
      "text/html": [
       "<div>\n",
       "<style scoped>\n",
       "    .dataframe tbody tr th:only-of-type {\n",
       "        vertical-align: middle;\n",
       "    }\n",
       "\n",
       "    .dataframe tbody tr th {\n",
       "        vertical-align: top;\n",
       "    }\n",
       "\n",
       "    .dataframe thead th {\n",
       "        text-align: right;\n",
       "    }\n",
       "</style>\n",
       "<table border=\"1\" class=\"dataframe\">\n",
       "  <thead>\n",
       "    <tr style=\"text-align: right;\">\n",
       "      <th></th>\n",
       "      <th>Id</th>\n",
       "      <th>longitud_sepalo</th>\n",
       "      <th>ancho_sepalo</th>\n",
       "      <th>longitud_petalo</th>\n",
       "      <th>ancho_petalo</th>\n",
       "      <th>especie</th>\n",
       "    </tr>\n",
       "  </thead>\n",
       "  <tbody>\n",
       "    <tr>\n",
       "      <th>0</th>\n",
       "      <td>1</td>\n",
       "      <td>5.1</td>\n",
       "      <td>3.5</td>\n",
       "      <td>1.4</td>\n",
       "      <td>0.2</td>\n",
       "      <td>Iris-setosa</td>\n",
       "    </tr>\n",
       "    <tr>\n",
       "      <th>1</th>\n",
       "      <td>2</td>\n",
       "      <td>4.9</td>\n",
       "      <td>3.0</td>\n",
       "      <td>1.4</td>\n",
       "      <td>0.2</td>\n",
       "      <td>Iris-setosa</td>\n",
       "    </tr>\n",
       "    <tr>\n",
       "      <th>2</th>\n",
       "      <td>3</td>\n",
       "      <td>4.7</td>\n",
       "      <td>3.2</td>\n",
       "      <td>1.3</td>\n",
       "      <td>0.2</td>\n",
       "      <td>Iris-setosa</td>\n",
       "    </tr>\n",
       "    <tr>\n",
       "      <th>3</th>\n",
       "      <td>4</td>\n",
       "      <td>4.6</td>\n",
       "      <td>3.1</td>\n",
       "      <td>1.5</td>\n",
       "      <td>0.2</td>\n",
       "      <td>Iris-setosa</td>\n",
       "    </tr>\n",
       "    <tr>\n",
       "      <th>4</th>\n",
       "      <td>5</td>\n",
       "      <td>5.0</td>\n",
       "      <td>3.6</td>\n",
       "      <td>1.4</td>\n",
       "      <td>0.2</td>\n",
       "      <td>Iris-setosa</td>\n",
       "    </tr>\n",
       "  </tbody>\n",
       "</table>\n",
       "</div>"
      ],
      "text/plain": [
       "   Id  longitud_sepalo  ancho_sepalo  longitud_petalo  ancho_petalo  \\\n",
       "0   1              5.1           3.5              1.4           0.2   \n",
       "1   2              4.9           3.0              1.4           0.2   \n",
       "2   3              4.7           3.2              1.3           0.2   \n",
       "3   4              4.6           3.1              1.5           0.2   \n",
       "4   5              5.0           3.6              1.4           0.2   \n",
       "\n",
       "       especie  \n",
       "0  Iris-setosa  \n",
       "1  Iris-setosa  \n",
       "2  Iris-setosa  \n",
       "3  Iris-setosa  \n",
       "4  Iris-setosa  "
      ]
     },
     "execution_count": 763,
     "metadata": {},
     "output_type": "execute_result"
    }
   ],
   "source": [
    "data.head()"
   ]
  },
  {
   "cell_type": "markdown",
   "id": "ac2c49c0",
   "metadata": {},
   "source": [
    "### Binning"
   ]
  },
  {
   "cell_type": "code",
   "execution_count": 764,
   "id": "87bb860a",
   "metadata": {},
   "outputs": [
    {
     "name": "stdout",
     "output_type": "stream",
     "text": [
      "    longitud_sepalo longitud_sepalo_bins longitud_sepalo_categoria\n",
      "0               5.1           (4.5, 5.5]                     medio\n",
      "1               4.9           (4.5, 5.5]                     medio\n",
      "2               4.7           (4.5, 5.5]                     medio\n",
      "3               4.6           (4.5, 5.5]                     medio\n",
      "4               5.0           (4.5, 5.5]                     medio\n",
      "5               5.4           (4.5, 5.5]                     medio\n",
      "6               4.6           (4.5, 5.5]                     medio\n",
      "7               5.0           (4.5, 5.5]                     medio\n",
      "8               4.4           (0.0, 4.5]                     corto\n",
      "9               4.9           (4.5, 5.5]                     medio\n",
      "10              5.4           (4.5, 5.5]                     medio\n",
      "11              4.8           (4.5, 5.5]                     medio\n",
      "12              4.8           (4.5, 5.5]                     medio\n",
      "13              4.3           (0.0, 4.5]                     corto\n",
      "14              5.8           (5.5, 7.0]                     largo\n",
      "15              5.7           (5.5, 7.0]                     largo\n",
      "16              5.4           (4.5, 5.5]                     medio\n",
      "17              5.1           (4.5, 5.5]                     medio\n",
      "18              5.7           (5.5, 7.0]                     largo\n",
      "19              5.1           (4.5, 5.5]                     medio\n"
     ]
    }
   ],
   "source": [
    "# Crear un nuevo DataFrame para el binning \n",
    "data_binning = data.copy()\n",
    "\n",
    "# Definir los intervalos\n",
    "bins = [0, 4.5, 5.5, 7]\n",
    "\n",
    "# Realizar el binning\n",
    "data_binning['longitud_sepalo_bins'] = pd.cut(data_binning['longitud_sepalo'], bins)\n",
    "\n",
    "# Asignar etiquetas\n",
    "labels = ['corto', 'medio', 'largo']\n",
    "data_binning['longitud_sepalo_categoria'] = pd.cut(data_binning['longitud_sepalo'], bins, labels=labels)\n",
    "\n",
    "# Verificar los resultados\n",
    "print(data_binning[['longitud_sepalo', 'longitud_sepalo_bins', 'longitud_sepalo_categoria']].head(20))\n"
   ]
  },
  {
   "cell_type": "code",
   "execution_count": 765,
   "id": "a19459a1",
   "metadata": {},
   "outputs": [
    {
     "data": {
      "text/html": [
       "<div>\n",
       "<style scoped>\n",
       "    .dataframe tbody tr th:only-of-type {\n",
       "        vertical-align: middle;\n",
       "    }\n",
       "\n",
       "    .dataframe tbody tr th {\n",
       "        vertical-align: top;\n",
       "    }\n",
       "\n",
       "    .dataframe thead th {\n",
       "        text-align: right;\n",
       "    }\n",
       "</style>\n",
       "<table border=\"1\" class=\"dataframe\">\n",
       "  <thead>\n",
       "    <tr style=\"text-align: right;\">\n",
       "      <th></th>\n",
       "      <th>Id</th>\n",
       "      <th>longitud_sepalo</th>\n",
       "      <th>ancho_sepalo</th>\n",
       "      <th>longitud_petalo</th>\n",
       "      <th>ancho_petalo</th>\n",
       "      <th>especie</th>\n",
       "      <th>longitud_sepalo_bins</th>\n",
       "      <th>longitud_sepalo_categoria</th>\n",
       "    </tr>\n",
       "  </thead>\n",
       "  <tbody>\n",
       "    <tr>\n",
       "      <th>0</th>\n",
       "      <td>1</td>\n",
       "      <td>5.1</td>\n",
       "      <td>3.5</td>\n",
       "      <td>1.4</td>\n",
       "      <td>0.2</td>\n",
       "      <td>Iris-setosa</td>\n",
       "      <td>(4.5, 5.5]</td>\n",
       "      <td>medio</td>\n",
       "    </tr>\n",
       "    <tr>\n",
       "      <th>1</th>\n",
       "      <td>2</td>\n",
       "      <td>4.9</td>\n",
       "      <td>3.0</td>\n",
       "      <td>1.4</td>\n",
       "      <td>0.2</td>\n",
       "      <td>Iris-setosa</td>\n",
       "      <td>(4.5, 5.5]</td>\n",
       "      <td>medio</td>\n",
       "    </tr>\n",
       "    <tr>\n",
       "      <th>2</th>\n",
       "      <td>3</td>\n",
       "      <td>4.7</td>\n",
       "      <td>3.2</td>\n",
       "      <td>1.3</td>\n",
       "      <td>0.2</td>\n",
       "      <td>Iris-setosa</td>\n",
       "      <td>(4.5, 5.5]</td>\n",
       "      <td>medio</td>\n",
       "    </tr>\n",
       "    <tr>\n",
       "      <th>3</th>\n",
       "      <td>4</td>\n",
       "      <td>4.6</td>\n",
       "      <td>3.1</td>\n",
       "      <td>1.5</td>\n",
       "      <td>0.2</td>\n",
       "      <td>Iris-setosa</td>\n",
       "      <td>(4.5, 5.5]</td>\n",
       "      <td>medio</td>\n",
       "    </tr>\n",
       "    <tr>\n",
       "      <th>4</th>\n",
       "      <td>5</td>\n",
       "      <td>5.0</td>\n",
       "      <td>3.6</td>\n",
       "      <td>1.4</td>\n",
       "      <td>0.2</td>\n",
       "      <td>Iris-setosa</td>\n",
       "      <td>(4.5, 5.5]</td>\n",
       "      <td>medio</td>\n",
       "    </tr>\n",
       "  </tbody>\n",
       "</table>\n",
       "</div>"
      ],
      "text/plain": [
       "   Id  longitud_sepalo  ancho_sepalo  longitud_petalo  ancho_petalo  \\\n",
       "0   1              5.1           3.5              1.4           0.2   \n",
       "1   2              4.9           3.0              1.4           0.2   \n",
       "2   3              4.7           3.2              1.3           0.2   \n",
       "3   4              4.6           3.1              1.5           0.2   \n",
       "4   5              5.0           3.6              1.4           0.2   \n",
       "\n",
       "       especie longitud_sepalo_bins longitud_sepalo_categoria  \n",
       "0  Iris-setosa           (4.5, 5.5]                     medio  \n",
       "1  Iris-setosa           (4.5, 5.5]                     medio  \n",
       "2  Iris-setosa           (4.5, 5.5]                     medio  \n",
       "3  Iris-setosa           (4.5, 5.5]                     medio  \n",
       "4  Iris-setosa           (4.5, 5.5]                     medio  "
      ]
     },
     "execution_count": 765,
     "metadata": {},
     "output_type": "execute_result"
    }
   ],
   "source": [
    "data_binning.head()"
   ]
  },
  {
   "cell_type": "code",
   "execution_count": 766,
   "id": "ae6b4a2d",
   "metadata": {},
   "outputs": [
    {
     "data": {
      "image/png": "[encoded data removed]",
      "text/plain": [
       "<Figure size 640x480 with 1 Axes>"
      ]
     },
     "metadata": {},
     "output_type": "display_data"
    }
   ],
   "source": [
    "# Definir los bins previamente generados\n",
    "bins = [0, 4.5, 5.5, 7]\n",
    "\n",
    "# Obtener las frecuencias de cada categoría y ordenar por las categorías\n",
    "bin_counts = pd.cut(data['longitud_sepalo'], bins=bins).value_counts().sort_index()\n",
    "\n",
    "# Graficar el histograma de frecuencias\n",
    "plt.bar(bin_counts.index.astype(str), bin_counts.values)\n",
    "plt.xlabel('Categorías')\n",
    "plt.ylabel('Frecuencia')\n",
    "plt.title('Distribución de las categorías generadas por el binning')\n",
    "\n",
    "# Ajustar las etiquetas del eje x\n",
    "labels = ['corto', 'medio', 'largo']\n",
    "plt.xticks(range(len(labels)), labels)\n",
    "\n",
    "plt.show()"
   ]
  },
  {
   "cell_type": "code",
   "execution_count": 767,
   "id": "655ed61b",
   "metadata": {},
   "outputs": [
    {
     "name": "stdout",
     "output_type": "stream",
     "text": [
      "(0.0, 4.5]     5\n",
      "(4.5, 5.5]    54\n",
      "(5.5, 7.0]    79\n",
      "Name: longitud_sepalo, dtype: int64\n"
     ]
    }
   ],
   "source": [
    "# Imprimir las frecuencias de cada categoría\n",
    "print(bin_counts)"
   ]
  },
  {
   "cell_type": "markdown",
   "id": "cebc2440",
   "metadata": {},
   "source": [
    "### Codificación de variables categóricas"
   ]
  },
  {
   "cell_type": "code",
   "execution_count": 768,
   "id": "0dd65724",
   "metadata": {
    "scrolled": false
   },
   "outputs": [
    {
     "data": {
      "text/html": [
       "<div>\n",
       "<style scoped>\n",
       "    .dataframe tbody tr th:only-of-type {\n",
       "        vertical-align: middle;\n",
       "    }\n",
       "\n",
       "    .dataframe tbody tr th {\n",
       "        vertical-align: top;\n",
       "    }\n",
       "\n",
       "    .dataframe thead th {\n",
       "        text-align: right;\n",
       "    }\n",
       "</style>\n",
       "<table border=\"1\" class=\"dataframe\">\n",
       "  <thead>\n",
       "    <tr style=\"text-align: right;\">\n",
       "      <th></th>\n",
       "      <th>Id</th>\n",
       "      <th>longitud_sepalo</th>\n",
       "      <th>ancho_sepalo</th>\n",
       "      <th>longitud_petalo</th>\n",
       "      <th>ancho_petalo</th>\n",
       "      <th>especie</th>\n",
       "      <th>longitud_sepalo_bins</th>\n",
       "      <th>longitud_sepalo_categoria</th>\n",
       "    </tr>\n",
       "  </thead>\n",
       "  <tbody>\n",
       "    <tr>\n",
       "      <th>0</th>\n",
       "      <td>1</td>\n",
       "      <td>5.1</td>\n",
       "      <td>3.5</td>\n",
       "      <td>1.4</td>\n",
       "      <td>0.2</td>\n",
       "      <td>Iris-setosa</td>\n",
       "      <td>(4.5, 5.5]</td>\n",
       "      <td>medio</td>\n",
       "    </tr>\n",
       "    <tr>\n",
       "      <th>1</th>\n",
       "      <td>2</td>\n",
       "      <td>4.9</td>\n",
       "      <td>3.0</td>\n",
       "      <td>1.4</td>\n",
       "      <td>0.2</td>\n",
       "      <td>Iris-setosa</td>\n",
       "      <td>(4.5, 5.5]</td>\n",
       "      <td>medio</td>\n",
       "    </tr>\n",
       "    <tr>\n",
       "      <th>2</th>\n",
       "      <td>3</td>\n",
       "      <td>4.7</td>\n",
       "      <td>3.2</td>\n",
       "      <td>1.3</td>\n",
       "      <td>0.2</td>\n",
       "      <td>Iris-setosa</td>\n",
       "      <td>(4.5, 5.5]</td>\n",
       "      <td>medio</td>\n",
       "    </tr>\n",
       "    <tr>\n",
       "      <th>3</th>\n",
       "      <td>4</td>\n",
       "      <td>4.6</td>\n",
       "      <td>3.1</td>\n",
       "      <td>1.5</td>\n",
       "      <td>0.2</td>\n",
       "      <td>Iris-setosa</td>\n",
       "      <td>(4.5, 5.5]</td>\n",
       "      <td>medio</td>\n",
       "    </tr>\n",
       "    <tr>\n",
       "      <th>4</th>\n",
       "      <td>5</td>\n",
       "      <td>5.0</td>\n",
       "      <td>3.6</td>\n",
       "      <td>1.4</td>\n",
       "      <td>0.2</td>\n",
       "      <td>Iris-setosa</td>\n",
       "      <td>(4.5, 5.5]</td>\n",
       "      <td>medio</td>\n",
       "    </tr>\n",
       "  </tbody>\n",
       "</table>\n",
       "</div>"
      ],
      "text/plain": [
       "   Id  longitud_sepalo  ancho_sepalo  longitud_petalo  ancho_petalo  \\\n",
       "0   1              5.1           3.5              1.4           0.2   \n",
       "1   2              4.9           3.0              1.4           0.2   \n",
       "2   3              4.7           3.2              1.3           0.2   \n",
       "3   4              4.6           3.1              1.5           0.2   \n",
       "4   5              5.0           3.6              1.4           0.2   \n",
       "\n",
       "       especie longitud_sepalo_bins longitud_sepalo_categoria  \n",
       "0  Iris-setosa           (4.5, 5.5]                     medio  \n",
       "1  Iris-setosa           (4.5, 5.5]                     medio  \n",
       "2  Iris-setosa           (4.5, 5.5]                     medio  \n",
       "3  Iris-setosa           (4.5, 5.5]                     medio  \n",
       "4  Iris-setosa           (4.5, 5.5]                     medio  "
      ]
     },
     "execution_count": 768,
     "metadata": {},
     "output_type": "execute_result"
    }
   ],
   "source": [
    "data_binning.head()"
   ]
  },
  {
   "cell_type": "code",
   "execution_count": 769,
   "id": "3ea59a60",
   "metadata": {},
   "outputs": [],
   "source": [
    "# Crear un diccionario de mapeo de categorías\n",
    "mapping = {'corto': 0, 'medio': 1, 'largo': 2}\n",
    "\n",
    "# Aplicar la codificación ordinal a la columna 'longitud_sepalo_categoria'\n",
    "data_binning_ordinal_encoding['longitud_sepalo_categoria_codificacion_ordenada'] = data_binning['longitud_sepalo_categoria'].map(mapping)"
   ]
  },
  {
   "cell_type": "code",
   "execution_count": 770,
   "id": "d4cdb719",
   "metadata": {},
   "outputs": [
    {
     "data": {
      "text/html": [
       "<div>\n",
       "<style scoped>\n",
       "    .dataframe tbody tr th:only-of-type {\n",
       "        vertical-align: middle;\n",
       "    }\n",
       "\n",
       "    .dataframe tbody tr th {\n",
       "        vertical-align: top;\n",
       "    }\n",
       "\n",
       "    .dataframe thead th {\n",
       "        text-align: right;\n",
       "    }\n",
       "</style>\n",
       "<table border=\"1\" class=\"dataframe\">\n",
       "  <thead>\n",
       "    <tr style=\"text-align: right;\">\n",
       "      <th></th>\n",
       "      <th>Id</th>\n",
       "      <th>longitud_sepalo</th>\n",
       "      <th>ancho_sepalo</th>\n",
       "      <th>longitud_petalo</th>\n",
       "      <th>ancho_petalo</th>\n",
       "      <th>especie</th>\n",
       "      <th>longitud_sepalo_bins</th>\n",
       "      <th>longitud_sepalo_categoria</th>\n",
       "      <th>longitud_sepalo_categoria_codificacion_ordenada</th>\n",
       "    </tr>\n",
       "  </thead>\n",
       "  <tbody>\n",
       "    <tr>\n",
       "      <th>0</th>\n",
       "      <td>1</td>\n",
       "      <td>5.1</td>\n",
       "      <td>3.5</td>\n",
       "      <td>1.4</td>\n",
       "      <td>0.2</td>\n",
       "      <td>Iris-setosa</td>\n",
       "      <td>(4.5, 5.5]</td>\n",
       "      <td>medio</td>\n",
       "      <td>1</td>\n",
       "    </tr>\n",
       "    <tr>\n",
       "      <th>1</th>\n",
       "      <td>2</td>\n",
       "      <td>4.9</td>\n",
       "      <td>3.0</td>\n",
       "      <td>1.4</td>\n",
       "      <td>0.2</td>\n",
       "      <td>Iris-setosa</td>\n",
       "      <td>(4.5, 5.5]</td>\n",
       "      <td>medio</td>\n",
       "      <td>1</td>\n",
       "    </tr>\n",
       "    <tr>\n",
       "      <th>2</th>\n",
       "      <td>3</td>\n",
       "      <td>4.7</td>\n",
       "      <td>3.2</td>\n",
       "      <td>1.3</td>\n",
       "      <td>0.2</td>\n",
       "      <td>Iris-setosa</td>\n",
       "      <td>(4.5, 5.5]</td>\n",
       "      <td>medio</td>\n",
       "      <td>1</td>\n",
       "    </tr>\n",
       "    <tr>\n",
       "      <th>3</th>\n",
       "      <td>4</td>\n",
       "      <td>4.6</td>\n",
       "      <td>3.1</td>\n",
       "      <td>1.5</td>\n",
       "      <td>0.2</td>\n",
       "      <td>Iris-setosa</td>\n",
       "      <td>(4.5, 5.5]</td>\n",
       "      <td>medio</td>\n",
       "      <td>1</td>\n",
       "    </tr>\n",
       "    <tr>\n",
       "      <th>4</th>\n",
       "      <td>5</td>\n",
       "      <td>5.0</td>\n",
       "      <td>3.6</td>\n",
       "      <td>1.4</td>\n",
       "      <td>0.2</td>\n",
       "      <td>Iris-setosa</td>\n",
       "      <td>(4.5, 5.5]</td>\n",
       "      <td>medio</td>\n",
       "      <td>1</td>\n",
       "    </tr>\n",
       "    <tr>\n",
       "      <th>...</th>\n",
       "      <td>...</td>\n",
       "      <td>...</td>\n",
       "      <td>...</td>\n",
       "      <td>...</td>\n",
       "      <td>...</td>\n",
       "      <td>...</td>\n",
       "      <td>...</td>\n",
       "      <td>...</td>\n",
       "      <td>...</td>\n",
       "    </tr>\n",
       "    <tr>\n",
       "      <th>145</th>\n",
       "      <td>146</td>\n",
       "      <td>6.7</td>\n",
       "      <td>3.0</td>\n",
       "      <td>5.2</td>\n",
       "      <td>2.3</td>\n",
       "      <td>Iris-virginica</td>\n",
       "      <td>(5.5, 7.0]</td>\n",
       "      <td>largo</td>\n",
       "      <td>2</td>\n",
       "    </tr>\n",
       "    <tr>\n",
       "      <th>146</th>\n",
       "      <td>147</td>\n",
       "      <td>6.3</td>\n",
       "      <td>2.5</td>\n",
       "      <td>5.0</td>\n",
       "      <td>1.9</td>\n",
       "      <td>Iris-virginica</td>\n",
       "      <td>(5.5, 7.0]</td>\n",
       "      <td>largo</td>\n",
       "      <td>2</td>\n",
       "    </tr>\n",
       "    <tr>\n",
       "      <th>147</th>\n",
       "      <td>148</td>\n",
       "      <td>6.5</td>\n",
       "      <td>3.0</td>\n",
       "      <td>5.2</td>\n",
       "      <td>2.0</td>\n",
       "      <td>Iris-virginica</td>\n",
       "      <td>(5.5, 7.0]</td>\n",
       "      <td>largo</td>\n",
       "      <td>2</td>\n",
       "    </tr>\n",
       "    <tr>\n",
       "      <th>148</th>\n",
       "      <td>149</td>\n",
       "      <td>6.2</td>\n",
       "      <td>3.4</td>\n",
       "      <td>5.4</td>\n",
       "      <td>2.3</td>\n",
       "      <td>Iris-virginica</td>\n",
       "      <td>(5.5, 7.0]</td>\n",
       "      <td>largo</td>\n",
       "      <td>2</td>\n",
       "    </tr>\n",
       "    <tr>\n",
       "      <th>149</th>\n",
       "      <td>150</td>\n",
       "      <td>5.9</td>\n",
       "      <td>3.0</td>\n",
       "      <td>5.1</td>\n",
       "      <td>1.8</td>\n",
       "      <td>Iris-virginica</td>\n",
       "      <td>(5.5, 7.0]</td>\n",
       "      <td>largo</td>\n",
       "      <td>2</td>\n",
       "    </tr>\n",
       "  </tbody>\n",
       "</table>\n",
       "<p>150 rows × 9 columns</p>\n",
       "</div>"
      ],
      "text/plain": [
       "      Id  longitud_sepalo  ancho_sepalo  longitud_petalo  ancho_petalo  \\\n",
       "0      1              5.1           3.5              1.4           0.2   \n",
       "1      2              4.9           3.0              1.4           0.2   \n",
       "2      3              4.7           3.2              1.3           0.2   \n",
       "3      4              4.6           3.1              1.5           0.2   \n",
       "4      5              5.0           3.6              1.4           0.2   \n",
       "..   ...              ...           ...              ...           ...   \n",
       "145  146              6.7           3.0              5.2           2.3   \n",
       "146  147              6.3           2.5              5.0           1.9   \n",
       "147  148              6.5           3.0              5.2           2.0   \n",
       "148  149              6.2           3.4              5.4           2.3   \n",
       "149  150              5.9           3.0              5.1           1.8   \n",
       "\n",
       "            especie longitud_sepalo_bins longitud_sepalo_categoria  \\\n",
       "0       Iris-setosa           (4.5, 5.5]                     medio   \n",
       "1       Iris-setosa           (4.5, 5.5]                     medio   \n",
       "2       Iris-setosa           (4.5, 5.5]                     medio   \n",
       "3       Iris-setosa           (4.5, 5.5]                     medio   \n",
       "4       Iris-setosa           (4.5, 5.5]                     medio   \n",
       "..              ...                  ...                       ...   \n",
       "145  Iris-virginica           (5.5, 7.0]                     largo   \n",
       "146  Iris-virginica           (5.5, 7.0]                     largo   \n",
       "147  Iris-virginica           (5.5, 7.0]                     largo   \n",
       "148  Iris-virginica           (5.5, 7.0]                     largo   \n",
       "149  Iris-virginica           (5.5, 7.0]                     largo   \n",
       "\n",
       "    longitud_sepalo_categoria_codificacion_ordenada  \n",
       "0                                                 1  \n",
       "1                                                 1  \n",
       "2                                                 1  \n",
       "3                                                 1  \n",
       "4                                                 1  \n",
       "..                                              ...  \n",
       "145                                               2  \n",
       "146                                               2  \n",
       "147                                               2  \n",
       "148                                               2  \n",
       "149                                               2  \n",
       "\n",
       "[150 rows x 9 columns]"
      ]
     },
     "execution_count": 770,
     "metadata": {},
     "output_type": "execute_result"
    }
   ],
   "source": [
    "data_binning_ordinal_encoding"
   ]
  }
 ],
 "metadata": {
  "kernelspec": {
   "display_name": "Python 3 (ipykernel)",
   "language": "python",
   "name": "python3"
  },
  "language_info": {
   "codemirror_mode": {
    "name": "ipython",
    "version": 3
   },
   "file_extension": ".py",
   "mimetype": "text/x-python",
   "name": "python",
   "nbconvert_exporter": "python",
   "pygments_lexer": "ipython3",
   "version": "3.10.9"
  }
 },
 "nbformat": 4,
 "nbformat_minor": 5
}
