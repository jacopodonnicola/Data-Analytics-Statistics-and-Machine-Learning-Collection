{
 "cells": [
  {
   "cell_type": "code",
   "execution_count": 1,
   "id": "cfd3c567",
   "metadata": {},
   "outputs": [],
   "source": [
    "import pandas as pd"
   ]
  },
  {
   "cell_type": "code",
   "execution_count": 1,
   "id": "097968df",
   "metadata": {},
   "outputs": [
    {
     "name": "stdout",
     "output_type": "stream",
     "text": [
      "H0_2_tailed\n",
      "binomial_coefficient\n",
      "binomial_distribution\n",
      "confidence_interval\n",
      "mean\n",
      "r_square\n",
      "std_dev\n",
      "std_dev_t_test\n",
      "std_error\n",
      "std_error_t_test\n",
      "std_error_t_test_independent_samples\n",
      "t_test\n",
      "t_test_dependent_samples\n",
      "t_test_independent_samples\n",
      "variance\n",
      "variance_t_test\n",
      "z_score\n"
     ]
    }
   ],
   "source": [
    "import inspect \n",
    "from Statistics import stats \n",
    "\n",
    "for name, obj in inspect.getmembers(stats):\n",
    "    if inspect.isfunction(obj):\n",
    "        print(name)"
   ]
  },
  {
   "cell_type": "code",
   "execution_count": 2,
   "id": "9556e24d",
   "metadata": {},
   "outputs": [],
   "source": [
    "from Statistics.stats import *"
   ]
  },
  {
   "cell_type": "code",
   "execution_count": 3,
   "id": "6f3c7be4",
   "metadata": {},
   "outputs": [],
   "source": [
    "Gettysburg = [9,5,6,11,8,5,7,13,12,13,9,8,10,6,11,9,7,12]\n",
    "Wilma = [11,10,12,9,8,13,14,15,12,11,13,8,9,11]"
   ]
  },
  {
   "cell_type": "code",
   "execution_count": 4,
   "id": "bcc4ef75",
   "metadata": {},
   "outputs": [
    {
     "data": {
      "text/plain": [
       "8.944444444444445"
      ]
     },
     "execution_count": 4,
     "metadata": {},
     "output_type": "execute_result"
    }
   ],
   "source": [
    "mean(Gettysburg)"
   ]
  },
  {
   "cell_type": "code",
   "execution_count": 5,
   "id": "31144899",
   "metadata": {},
   "outputs": [
    {
     "data": {
      "text/plain": [
       "11.142857142857142"
      ]
     },
     "execution_count": 5,
     "metadata": {},
     "output_type": "execute_result"
    }
   ],
   "source": [
    "mean(Wilma)"
   ]
  },
  {
   "cell_type": "code",
   "execution_count": 6,
   "id": "f0daf387",
   "metadata": {
    "scrolled": true
   },
   "outputs": [
    {
     "data": {
      "text/plain": [
       "6.996732026143792"
      ]
     },
     "execution_count": 6,
     "metadata": {},
     "output_type": "execute_result"
    }
   ],
   "source": [
    "variance_t_test(Gettysburg)"
   ]
  },
  {
   "cell_type": "code",
   "execution_count": 7,
   "id": "6a3e28fb",
   "metadata": {},
   "outputs": [
    {
     "data": {
      "text/plain": [
       "2.6451336499586917"
      ]
     },
     "execution_count": 7,
     "metadata": {},
     "output_type": "execute_result"
    }
   ],
   "source": [
    "std_dev_t_test(Gettysburg)"
   ]
  },
  {
   "cell_type": "code",
   "execution_count": 8,
   "id": "420d9c72",
   "metadata": {},
   "outputs": [
    {
     "data": {
      "text/plain": [
       "4.747252747252748"
      ]
     },
     "execution_count": 8,
     "metadata": {},
     "output_type": "execute_result"
    }
   ],
   "source": [
    "variance_t_test(Wilma)"
   ]
  },
  {
   "cell_type": "code",
   "execution_count": 9,
   "id": "f85f96f2",
   "metadata": {
    "scrolled": true
   },
   "outputs": [
    {
     "data": {
      "text/plain": [
       "2.1788191176076888"
      ]
     },
     "execution_count": 9,
     "metadata": {},
     "output_type": "execute_result"
    }
   ],
   "source": [
    "std_dev_t_test(Wilma)"
   ]
  },
  {
   "cell_type": "code",
   "execution_count": 10,
   "id": "164161e7",
   "metadata": {},
   "outputs": [],
   "source": [
    "n1 = 18 \n",
    "n2 = 14"
   ]
  },
  {
   "cell_type": "code",
   "execution_count": 11,
   "id": "b952ab00",
   "metadata": {},
   "outputs": [
    {
     "data": {
      "text/plain": [
       "0.8531100847677227"
      ]
     },
     "execution_count": 11,
     "metadata": {},
     "output_type": "execute_result"
    }
   ],
   "source": [
    "std_error_t_test_independent_samples(Gettysburg,Wilma,n1,n2)"
   ]
  },
  {
   "cell_type": "code",
   "execution_count": 12,
   "id": "45e7bb47",
   "metadata": {},
   "outputs": [
    {
     "data": {
      "text/plain": [
       "-2.5769390582356815"
      ]
     },
     "execution_count": 12,
     "metadata": {},
     "output_type": "execute_result"
    }
   ],
   "source": [
    "t_test_independent_samples(Gettysburg,Wilma,n1,n2)"
   ]
  },
  {
   "cell_type": "code",
   "execution_count": 13,
   "id": "26779162",
   "metadata": {},
   "outputs": [
    {
     "data": {
      "text/plain": [
       "30"
      ]
     },
     "execution_count": 13,
     "metadata": {},
     "output_type": "execute_result"
    }
   ],
   "source": [
    "df = n1 + n2 - 2\n",
    "df"
   ]
  },
  {
   "cell_type": "code",
   "execution_count": 14,
   "id": "2126d1fa",
   "metadata": {},
   "outputs": [],
   "source": [
    "t_critical_05 = -2.042"
   ]
  },
  {
   "cell_type": "markdown",
   "id": "1bb7d8f9",
   "metadata": {},
   "source": [
    "t_test < t_critical_05\n",
    "\n",
    "Conclusions: The H0 hypothesis is rejected "
   ]
  }
 ],
 "metadata": {
  "kernelspec": {
   "display_name": "Python 3 (ipykernel)",
   "language": "python",
   "name": "python3"
  },
  "language_info": {
   "codemirror_mode": {
    "name": "ipython",
    "version": 3
   },
   "file_extension": ".py",
   "mimetype": "text/x-python",
   "name": "python",
   "nbconvert_exporter": "python",
   "pygments_lexer": "ipython3",
   "version": "3.10.9"
  }
 },
 "nbformat": 4,
 "nbformat_minor": 5
}
