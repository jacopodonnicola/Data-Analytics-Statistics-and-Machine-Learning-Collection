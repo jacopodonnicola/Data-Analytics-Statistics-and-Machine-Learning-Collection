{
 "cells": [
  {
   "cell_type": "code",
   "execution_count": 1,
   "id": "d14ee7f4",
   "metadata": {},
   "outputs": [],
   "source": [
    "import pandas as pd"
   ]
  },
  {
   "cell_type": "code",
   "execution_count": 2,
   "id": "b3ac9116",
   "metadata": {},
   "outputs": [],
   "source": [
    "klout = pd.read_csv('Klout_scores.csv', header=None, names = ['Values'])"
   ]
  },
  {
   "cell_type": "code",
   "execution_count": 3,
   "id": "041cdf92",
   "metadata": {
    "scrolled": true
   },
   "outputs": [
    {
     "data": {
      "text/html": [
       "<div>\n",
       "<style scoped>\n",
       "    .dataframe tbody tr th:only-of-type {\n",
       "        vertical-align: middle;\n",
       "    }\n",
       "\n",
       "    .dataframe tbody tr th {\n",
       "        vertical-align: top;\n",
       "    }\n",
       "\n",
       "    .dataframe thead th {\n",
       "        text-align: right;\n",
       "    }\n",
       "</style>\n",
       "<table border=\"1\" class=\"dataframe\">\n",
       "  <thead>\n",
       "    <tr style=\"text-align: right;\">\n",
       "      <th></th>\n",
       "      <th>Values</th>\n",
       "    </tr>\n",
       "  </thead>\n",
       "  <tbody>\n",
       "    <tr>\n",
       "      <th>0</th>\n",
       "      <td>25.104179</td>\n",
       "    </tr>\n",
       "    <tr>\n",
       "      <th>1</th>\n",
       "      <td>60.908747</td>\n",
       "    </tr>\n",
       "    <tr>\n",
       "      <th>2</th>\n",
       "      <td>23.222238</td>\n",
       "    </tr>\n",
       "    <tr>\n",
       "      <th>3</th>\n",
       "      <td>51.553491</td>\n",
       "    </tr>\n",
       "    <tr>\n",
       "      <th>4</th>\n",
       "      <td>22.629690</td>\n",
       "    </tr>\n",
       "    <tr>\n",
       "      <th>...</th>\n",
       "      <td>...</td>\n",
       "    </tr>\n",
       "    <tr>\n",
       "      <th>1043</th>\n",
       "      <td>28.544280</td>\n",
       "    </tr>\n",
       "    <tr>\n",
       "      <th>1044</th>\n",
       "      <td>16.647022</td>\n",
       "    </tr>\n",
       "    <tr>\n",
       "      <th>1045</th>\n",
       "      <td>40.078943</td>\n",
       "    </tr>\n",
       "    <tr>\n",
       "      <th>1046</th>\n",
       "      <td>51.085002</td>\n",
       "    </tr>\n",
       "    <tr>\n",
       "      <th>1047</th>\n",
       "      <td>22.430099</td>\n",
       "    </tr>\n",
       "  </tbody>\n",
       "</table>\n",
       "<p>1048 rows × 1 columns</p>\n",
       "</div>"
      ],
      "text/plain": [
       "         Values\n",
       "0     25.104179\n",
       "1     60.908747\n",
       "2     23.222238\n",
       "3     51.553491\n",
       "4     22.629690\n",
       "...         ...\n",
       "1043  28.544280\n",
       "1044  16.647022\n",
       "1045  40.078943\n",
       "1046  51.085002\n",
       "1047  22.430099\n",
       "\n",
       "[1048 rows x 1 columns]"
      ]
     },
     "execution_count": 3,
     "metadata": {},
     "output_type": "execute_result"
    }
   ],
   "source": [
    "klout"
   ]
  },
  {
   "cell_type": "code",
   "execution_count": 47,
   "id": "2acd09b2",
   "metadata": {},
   "outputs": [
    {
     "data": {
      "text/plain": [
       "[25.10417915,\n",
       " 60.9087471,\n",
       " 23.22223768,\n",
       " 51.55349118,\n",
       " 22.62969025,\n",
       " 53.33809913,\n",
       " 22.36088208,\n",
       " 26.51507812,\n",
       " 52.73731623,\n",
       " 40.23515157]"
      ]
     },
     "execution_count": 47,
     "metadata": {},
     "output_type": "execute_result"
    }
   ],
   "source": [
    "klout_list = klout['Values'].tolist()\n",
    "klout_list[:10]"
   ]
  },
  {
   "cell_type": "code",
   "execution_count": 48,
   "id": "910de838",
   "metadata": {},
   "outputs": [],
   "source": [
    "def mean(l):\n",
    "    m = sum(l)/len(l)\n",
    "    return m"
   ]
  },
  {
   "cell_type": "code",
   "execution_count": 49,
   "id": "8ba8aae5",
   "metadata": {},
   "outputs": [
    {
     "data": {
      "text/plain": [
       "37.719054832538156"
      ]
     },
     "execution_count": 49,
     "metadata": {},
     "output_type": "execute_result"
    }
   ],
   "source": [
    "mean(klout_list)"
   ]
  },
  {
   "cell_type": "code",
   "execution_count": 50,
   "id": "197c648f",
   "metadata": {},
   "outputs": [],
   "source": [
    "def variance(l):\n",
    "    m = sum(l)/len(l)\n",
    "    normalized = [(i - m) for i in l]\n",
    "    normalized_square = [(i)**2 for i in normalized]\n",
    "    v = sum(normalized_square)/len(normalized_square)\n",
    "    return v"
   ]
  },
  {
   "cell_type": "code",
   "execution_count": 51,
   "id": "e86af4c4",
   "metadata": {},
   "outputs": [],
   "source": [
    "def std_dev(l):\n",
    "    v = variance(l)\n",
    "    std_dev = v**(1/2)\n",
    "    return std_dev"
   ]
  },
  {
   "cell_type": "code",
   "execution_count": 52,
   "id": "1ab31960",
   "metadata": {},
   "outputs": [
    {
     "data": {
      "text/plain": [
       "16.036658421715316"
      ]
     },
     "execution_count": 52,
     "metadata": {},
     "output_type": "execute_result"
    }
   ],
   "source": [
    "std_dev(klout_list)"
   ]
  },
  {
   "cell_type": "code",
   "execution_count": 53,
   "id": "d400019b",
   "metadata": {},
   "outputs": [],
   "source": [
    "import matplotlib.pyplot as plt"
   ]
  },
  {
   "cell_type": "code",
   "execution_count": 54,
   "id": "479b77db",
   "metadata": {},
   "outputs": [
    {
     "data": {
      "image/png": "[encoded data removed]",
      "text/plain": [
       "<Figure size 640x480 with 1 Axes>"
      ]
     },
     "metadata": {},
     "output_type": "display_data"
    }
   ],
   "source": [
    "plt.hist(klout_list, bins=18, color='white', edgecolor='black');"
   ]
  },
  {
   "cell_type": "markdown",
   "id": "5a7353f9",
   "metadata": {},
   "source": [
    "Standard deviation of a klout sample of 35 units"
   ]
  },
  {
   "cell_type": "code",
   "execution_count": 55,
   "id": "dcd72349",
   "metadata": {},
   "outputs": [],
   "source": [
    "def std_dev_of_k_units_sample(l,k):\n",
    "    std_dev_pop = std_dev(l)\n",
    "    std_dev_sample = std_dev_pop/((k)**(1/2))\n",
    "    return std_dev_sample"
   ]
  },
  {
   "cell_type": "code",
   "execution_count": 56,
   "id": "9fe2d8ef",
   "metadata": {},
   "outputs": [
    {
     "data": {
      "text/plain": [
       "2.710690019348119"
      ]
     },
     "execution_count": 56,
     "metadata": {},
     "output_type": "execute_result"
    }
   ],
   "source": [
    "std_dev_of_k_units_sample(klout_list,35)"
   ]
  },
  {
   "cell_type": "code",
   "execution_count": 57,
   "id": "f201bfbc",
   "metadata": {},
   "outputs": [],
   "source": [
    "def z_score(l,k,i):\n",
    "    mean_pop = mean(l)\n",
    "    std_dev_sample = std_dev_of_k_units_sample(l,k)\n",
    "    return (i - mean_pop)/std_dev_sample"
   ]
  },
  {
   "cell_type": "code",
   "execution_count": 58,
   "id": "00ce5c22",
   "metadata": {},
   "outputs": [],
   "source": [
    "l = klout_list\n",
    "k = 35\n",
    "i = 40"
   ]
  },
  {
   "cell_type": "code",
   "execution_count": 59,
   "id": "bb2ca11c",
   "metadata": {
    "scrolled": true
   },
   "outputs": [
    {
     "data": {
      "text/plain": [
       "0.841462930538394"
      ]
     },
     "execution_count": 59,
     "metadata": {},
     "output_type": "execute_result"
    }
   ],
   "source": [
    "z_score(l,k,i)"
   ]
  },
  {
   "cell_type": "markdown",
   "id": "941bd1c6",
   "metadata": {},
   "source": [
    "The z-score represents how many standard deviations a value (in this case, 40) is away from the mean of the dataset"
   ]
  },
  {
   "cell_type": "code",
   "execution_count": 60,
   "id": "89edb76d",
   "metadata": {},
   "outputs": [
    {
     "data": {
      "text/plain": [
       "40.0"
      ]
     },
     "execution_count": 60,
     "metadata": {},
     "output_type": "execute_result"
    }
   ],
   "source": [
    "37.719054832538156 + 2.710690019348119 * 0.841462930538394"
   ]
  },
  {
   "cell_type": "markdown",
   "id": "9937a80c",
   "metadata": {},
   "source": [
    "Probability of randomly drawing a sample of size 35 with a mean of at least 40"
   ]
  },
  {
   "cell_type": "code",
   "execution_count": 61,
   "id": "b9ec24a6",
   "metadata": {},
   "outputs": [
    {
     "name": "stdout",
     "output_type": "stream",
     "text": [
      "0.2005\n"
     ]
    }
   ],
   "source": [
    "z_score_of_40 = 0.841462930538394\n",
    "prob_z_score = 0.7995\n",
    "prob_at_least_40 = 1 - prob_z_score\n",
    "print(prob_at_least_40)"
   ]
  },
  {
   "cell_type": "code",
   "execution_count": 62,
   "id": "8f60dfb4",
   "metadata": {},
   "outputs": [
    {
     "data": {
      "image/png": "[encoded data removed]",
      "text/plain": [
       "<Figure size 640x480 with 1 Axes>"
      ]
     },
     "metadata": {},
     "output_type": "display_data"
    }
   ],
   "source": [
    "import numpy as np\n",
    "from scipy.stats import norm\n",
    "\n",
    "mean_sample = mean(l)\n",
    "std_error = std_dev_of_k_units_sample(l,k)\n",
    "\n",
    "x = np.linspace(mean_sample - 4*std_error, mean_sample + 4*std_error, 100)\n",
    "\n",
    "pdf = norm.pdf(x, mean_sample, std_error)\n",
    "\n",
    "plt.plot(x, pdf, color='blue')\n",
    "plt.axvline(i, color='red', linestyle='--')\n",
    "\n",
    "plt.show()"
   ]
  },
  {
   "cell_type": "markdown",
   "id": "d03d22af",
   "metadata": {},
   "source": [
    "Probability of randomly drawing a sample of size 250 with a mean of at least 40"
   ]
  },
  {
   "cell_type": "code",
   "execution_count": 63,
   "id": "737c8a31",
   "metadata": {},
   "outputs": [],
   "source": [
    "l = klout_list\n",
    "k = 250\n",
    "i = 40"
   ]
  },
  {
   "cell_type": "code",
   "execution_count": 64,
   "id": "34480294",
   "metadata": {},
   "outputs": [
    {
     "data": {
      "text/plain": [
       "1.014247333414829"
      ]
     },
     "execution_count": 64,
     "metadata": {},
     "output_type": "execute_result"
    }
   ],
   "source": [
    "std_dev_of_k_units_sample(l,k)"
   ]
  },
  {
   "cell_type": "code",
   "execution_count": 65,
   "id": "2b6a52c9",
   "metadata": {},
   "outputs": [
    {
     "data": {
      "text/plain": [
       "2.2489042783895923"
      ]
     },
     "execution_count": 65,
     "metadata": {},
     "output_type": "execute_result"
    }
   ],
   "source": [
    "z_score(l,k,i)"
   ]
  },
  {
   "cell_type": "code",
   "execution_count": 66,
   "id": "d86a423a",
   "metadata": {},
   "outputs": [
    {
     "name": "stdout",
     "output_type": "stream",
     "text": [
      "0.012499999999999956\n"
     ]
    }
   ],
   "source": [
    "prob_z_score = 0.9875\n",
    "prob_at_least_40 = 1 - prob_z_score\n",
    "print(prob_at_least_40)"
   ]
  },
  {
   "cell_type": "code",
   "execution_count": 67,
   "id": "2cd6c1c6",
   "metadata": {},
   "outputs": [
    {
     "data": {
      "image/png": "[encoded data removed]",
      "text/plain": [
       "<Figure size 640x480 with 1 Axes>"
      ]
     },
     "metadata": {},
     "output_type": "display_data"
    }
   ],
   "source": [
    "mean_sample = mean(l)\n",
    "std_error = std_dev_of_k_units_sample(l,k)\n",
    "\n",
    "x = np.linspace(mean_sample - 4*std_error, mean_sample + 4*std_error, 100)\n",
    "\n",
    "pdf = norm.pdf(x, mean_sample, std_error)\n",
    "\n",
    "plt.plot(x, pdf, color='blue')\n",
    "plt.axvline(i, color='red', linestyle='--')\n",
    "\n",
    "plt.show()"
   ]
  },
  {
   "cell_type": "markdown",
   "id": "2540d429",
   "metadata": {},
   "source": [
    "We know that in a normal distribution, approximately 68% of the data falls within one standard deviation of the mean, about 95% of the data falls within two standard deviations of the mean and approximately 99.7% of the data falls within three standard deviations of the mean."
   ]
  },
  {
   "cell_type": "markdown",
   "id": "0f469510",
   "metadata": {},
   "source": [
    "More precisely, we know from the ZTable that about 95% of the data falls within 1.96 * standard deviations of the mean "
   ]
  },
  {
   "cell_type": "code",
   "execution_count": 68,
   "id": "5d33b1ea",
   "metadata": {
    "scrolled": true
   },
   "outputs": [
    {
     "name": "stdout",
     "output_type": "stream",
     "text": [
      "38.01207522650694\n",
      "41.98792477349306\n"
     ]
    }
   ],
   "source": [
    "inferior_limit_interval_95 = 40 - 1.96 * std_dev_of_k_units_sample(l,k)\n",
    "superior_limit_interval_95 = 40 + 1.96 * std_dev_of_k_units_sample(l,k)\n",
    "\n",
    "print(inferior_limit_interval_95)\n",
    "print(superior_limit_interval_95)"
   ]
  },
  {
   "cell_type": "markdown",
   "id": "6c905e52",
   "metadata": {},
   "source": [
    "Based on the sample, we estimate with 98% confidence that the population mean falls within the interval."
   ]
  },
  {
   "cell_type": "code",
   "execution_count": 69,
   "id": "b25e0005",
   "metadata": {},
   "outputs": [
    {
     "name": "stdout",
     "output_type": "stream",
     "text": [
      "37.63680371314345\n",
      "42.36319628685655\n"
     ]
    }
   ],
   "source": [
    "inferior_limit_interval_98 = 40 - 2.33 * std_dev_of_k_units_sample(l,k)\n",
    "superior_limit_interval_98 = 40 + 2.33 * std_dev_of_k_units_sample(l,k)\n",
    "\n",
    "print(inferior_limit_interval_98)\n",
    "print(superior_limit_interval_98)"
   ]
  },
  {
   "cell_type": "markdown",
   "id": "be1e8593",
   "metadata": {},
   "source": [
    "## Engagement Ratio"
   ]
  },
  {
   "cell_type": "code",
   "execution_count": 4,
   "id": "1323978a",
   "metadata": {},
   "outputs": [],
   "source": [
    "engagement_ratio = pd.read_csv('Engagement_ratio.csv', header=None, names = ['Values'])"
   ]
  },
  {
   "cell_type": "code",
   "execution_count": 71,
   "id": "d6c7ef8c",
   "metadata": {},
   "outputs": [
    {
     "data": {
      "text/plain": [
       "[0.000149213,\n",
       " 0.032047036,\n",
       " 0.07161051,\n",
       " 0.120724501,\n",
       " 0.004766242,\n",
       " 0.005118918,\n",
       " 0.019827659,\n",
       " 0.002235466,\n",
       " 0.004187593,\n",
       " 0.047041231]"
      ]
     },
     "execution_count": 71,
     "metadata": {},
     "output_type": "execute_result"
    }
   ],
   "source": [
    "engagement_ratio_list = engagement_ratio['Values'].tolist()\n",
    "engagement_ratio_list[:10]"
   ]
  },
  {
   "cell_type": "code",
   "execution_count": 72,
   "id": "e2a7c57d",
   "metadata": {},
   "outputs": [],
   "source": [
    "l = engagement_ratio_list"
   ]
  },
  {
   "cell_type": "code",
   "execution_count": 73,
   "id": "3add984f",
   "metadata": {},
   "outputs": [
    {
     "data": {
      "text/plain": [
       "0.07726584465256944"
      ]
     },
     "execution_count": 73,
     "metadata": {},
     "output_type": "execute_result"
    }
   ],
   "source": [
    "mean(l)"
   ]
  },
  {
   "cell_type": "code",
   "execution_count": 74,
   "id": "492075b6",
   "metadata": {},
   "outputs": [
    {
     "data": {
      "text/plain": [
       "0.10720956480669143"
      ]
     },
     "execution_count": 74,
     "metadata": {},
     "output_type": "execute_result"
    }
   ],
   "source": [
    "std_dev(l)"
   ]
  },
  {
   "cell_type": "markdown",
   "id": "83fb9902",
   "metadata": {},
   "source": [
    "Let's introduce an external factor that could affect the population mean and variance, and let's investigate it through a sample size of 20. We know that the sample mean is 0.13"
   ]
  },
  {
   "cell_type": "code",
   "execution_count": 75,
   "id": "d21e6519",
   "metadata": {},
   "outputs": [],
   "source": [
    "mean_sample = 0.13"
   ]
  },
  {
   "cell_type": "code",
   "execution_count": 76,
   "id": "349b93fd",
   "metadata": {},
   "outputs": [],
   "source": [
    "k = 20"
   ]
  },
  {
   "cell_type": "code",
   "execution_count": 77,
   "id": "3aaa52cf",
   "metadata": {},
   "outputs": [
    {
     "data": {
      "text/plain": [
       "0.023972787474593114"
      ]
     },
     "execution_count": 77,
     "metadata": {},
     "output_type": "execute_result"
    }
   ],
   "source": [
    "std_dev_of_k_units_sample(l,k)"
   ]
  },
  {
   "cell_type": "code",
   "execution_count": 78,
   "id": "a0df3a14",
   "metadata": {},
   "outputs": [
    {
     "name": "stdout",
     "output_type": "stream",
     "text": [
      "0.0830133365497975\n",
      "0.1769866634502025\n"
     ]
    }
   ],
   "source": [
    "inferior_limit_interval_95 = mean_sample - 1.96 * std_dev_of_k_units_sample(l,k)\n",
    "superior_limit_interval_95 = mean_sample + 1.96 * std_dev_of_k_units_sample(l,k)\n",
    "\n",
    "print(inferior_limit_interval_95)\n",
    "print(superior_limit_interval_95)"
   ]
  },
  {
   "cell_type": "markdown",
   "id": "671acf79",
   "metadata": {},
   "source": [
    "The population mean of 0.077 falls outside the 95% confidence interval of the sample (0.083 - 0.176). Therefore, we can conclude that the external factor has significantly affected the population."
   ]
  },
  {
   "cell_type": "markdown",
   "id": "d0e06a28",
   "metadata": {},
   "source": [
    "#### For Statistical distributions and interpreting P values"
   ]
  },
  {
   "cell_type": "markdown",
   "id": "6df47340",
   "metadata": {},
   "source": [
    "https://www.graphpad.com/quickcalcs/distMenu/"
   ]
  }
 ],
 "metadata": {
  "kernelspec": {
   "display_name": "Python 3 (ipykernel)",
   "language": "python",
   "name": "python3"
  },
  "language_info": {
   "codemirror_mode": {
    "name": "ipython",
    "version": 3
   },
   "file_extension": ".py",
   "mimetype": "text/x-python",
   "name": "python",
   "nbconvert_exporter": "python",
   "pygments_lexer": "ipython3",
   "version": "3.10.9"
  }
 },
 "nbformat": 4,
 "nbformat_minor": 5
}
