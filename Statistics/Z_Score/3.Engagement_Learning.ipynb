{
 "cells": [
  {
   "cell_type": "code",
   "execution_count": 1,
   "id": "26622d92",
   "metadata": {},
   "outputs": [],
   "source": [
    "import pandas as pd"
   ]
  },
  {
   "cell_type": "code",
   "execution_count": 2,
   "id": "62f1c415",
   "metadata": {},
   "outputs": [
    {
     "data": {
      "text/html": [
       "<div>\n",
       "<style scoped>\n",
       "    .dataframe tbody tr th:only-of-type {\n",
       "        vertical-align: middle;\n",
       "    }\n",
       "\n",
       "    .dataframe tbody tr th {\n",
       "        vertical-align: top;\n",
       "    }\n",
       "\n",
       "    .dataframe thead th {\n",
       "        text-align: right;\n",
       "    }\n",
       "</style>\n",
       "<table border=\"1\" class=\"dataframe\">\n",
       "  <thead>\n",
       "    <tr style=\"text-align: right;\">\n",
       "      <th></th>\n",
       "      <th>Timestamp</th>\n",
       "      <th>Engagement</th>\n",
       "      <th>Learning</th>\n",
       "    </tr>\n",
       "  </thead>\n",
       "  <tbody>\n",
       "    <tr>\n",
       "      <th>0</th>\n",
       "      <td>3/14/2013 18:42:17</td>\n",
       "      <td>10.0</td>\n",
       "      <td>10.0</td>\n",
       "    </tr>\n",
       "    <tr>\n",
       "      <th>1</th>\n",
       "      <td>3/14/2013 18:42:44</td>\n",
       "      <td>10.0</td>\n",
       "      <td>10.0</td>\n",
       "    </tr>\n",
       "    <tr>\n",
       "      <th>2</th>\n",
       "      <td>3/14/2013 18:42:58</td>\n",
       "      <td>7.0</td>\n",
       "      <td>8.0</td>\n",
       "    </tr>\n",
       "    <tr>\n",
       "      <th>3</th>\n",
       "      <td>3/14/2013 18:43:15</td>\n",
       "      <td>8.0</td>\n",
       "      <td>9.0</td>\n",
       "    </tr>\n",
       "    <tr>\n",
       "      <th>4</th>\n",
       "      <td>3/14/2013 18:43:27</td>\n",
       "      <td>9.0</td>\n",
       "      <td>9.0</td>\n",
       "    </tr>\n",
       "    <tr>\n",
       "      <th>...</th>\n",
       "      <td>...</td>\n",
       "      <td>...</td>\n",
       "      <td>...</td>\n",
       "    </tr>\n",
       "    <tr>\n",
       "      <th>230</th>\n",
       "      <td>3/16/2013 9:26:51</td>\n",
       "      <td>9.0</td>\n",
       "      <td>9.0</td>\n",
       "    </tr>\n",
       "    <tr>\n",
       "      <th>231</th>\n",
       "      <td>3/16/2013 9:53:03</td>\n",
       "      <td>9.0</td>\n",
       "      <td>10.0</td>\n",
       "    </tr>\n",
       "    <tr>\n",
       "      <th>232</th>\n",
       "      <td>3/16/2013 10:16:19</td>\n",
       "      <td>8.0</td>\n",
       "      <td>7.0</td>\n",
       "    </tr>\n",
       "    <tr>\n",
       "      <th>233</th>\n",
       "      <td>3/16/2013 10:20:38</td>\n",
       "      <td>6.0</td>\n",
       "      <td>6.0</td>\n",
       "    </tr>\n",
       "    <tr>\n",
       "      <th>234</th>\n",
       "      <td>3/16/2013 13:02:31</td>\n",
       "      <td>3.0</td>\n",
       "      <td>6.0</td>\n",
       "    </tr>\n",
       "  </tbody>\n",
       "</table>\n",
       "<p>235 rows × 3 columns</p>\n",
       "</div>"
      ],
      "text/plain": [
       "              Timestamp  Engagement  Learning\n",
       "0    3/14/2013 18:42:17        10.0      10.0\n",
       "1    3/14/2013 18:42:44        10.0      10.0\n",
       "2    3/14/2013 18:42:58         7.0       8.0\n",
       "3    3/14/2013 18:43:15         8.0       9.0\n",
       "4    3/14/2013 18:43:27         9.0       9.0\n",
       "..                  ...         ...       ...\n",
       "230   3/16/2013 9:26:51         9.0       9.0\n",
       "231   3/16/2013 9:53:03         9.0      10.0\n",
       "232  3/16/2013 10:16:19         8.0       7.0\n",
       "233  3/16/2013 10:20:38         6.0       6.0\n",
       "234  3/16/2013 13:02:31         3.0       6.0\n",
       "\n",
       "[235 rows x 3 columns]"
      ]
     },
     "execution_count": 2,
     "metadata": {},
     "output_type": "execute_result"
    }
   ],
   "source": [
    "Engagement_Learning = pd.read_csv('Engagement_Learning.csv')\n",
    "Engagement_Learning"
   ]
  },
  {
   "cell_type": "code",
   "execution_count": 3,
   "id": "1cc9ad36",
   "metadata": {},
   "outputs": [
    {
     "data": {
      "text/plain": [
       "[10.0, 10.0, 7.0, 8.0, 9.0, 10.0, 8.0, 1.0, 9.0, 8.0]"
      ]
     },
     "execution_count": 3,
     "metadata": {},
     "output_type": "execute_result"
    }
   ],
   "source": [
    "engagement_list = Engagement_Learning['Engagement'].tolist()\n",
    "engagement_list[:10]"
   ]
  },
  {
   "cell_type": "code",
   "execution_count": 4,
   "id": "73972f18",
   "metadata": {},
   "outputs": [
    {
     "name": "stdout",
     "output_type": "stream",
     "text": [
      "H0_2_tailed\n",
      "binomial_coefficient\n",
      "binomial_distribution\n",
      "confidence_interval\n",
      "mean\n",
      "r_square\n",
      "std_dev\n",
      "std_dev_t_test\n",
      "std_error\n",
      "std_error_t_test\n",
      "std_error_t_test_independent_samples\n",
      "t_test\n",
      "t_test_dependent_samples\n",
      "t_test_independent_samples\n",
      "variance\n",
      "variance_t_test\n",
      "z_score\n"
     ]
    }
   ],
   "source": [
    "import inspect\n",
    "from Statistics import stats\n",
    "for name, obj in inspect.getmembers(stats):\n",
    "    if inspect.isfunction(obj):\n",
    "        print(name)"
   ]
  },
  {
   "cell_type": "code",
   "execution_count": 6,
   "id": "d3d55d2e",
   "metadata": {},
   "outputs": [],
   "source": [
    "from Statistics.stats import *"
   ]
  },
  {
   "cell_type": "code",
   "execution_count": 7,
   "id": "4a5a9035",
   "metadata": {},
   "outputs": [],
   "source": [
    "l = engagement_list"
   ]
  },
  {
   "cell_type": "code",
   "execution_count": 8,
   "id": "6cdd7300",
   "metadata": {
    "scrolled": true
   },
   "outputs": [
    {
     "data": {
      "text/plain": [
       "7.470212765957447"
      ]
     },
     "execution_count": 8,
     "metadata": {},
     "output_type": "execute_result"
    }
   ],
   "source": [
    "mean(l)"
   ]
  },
  {
   "cell_type": "code",
   "execution_count": 9,
   "id": "d40802ec",
   "metadata": {},
   "outputs": [
    {
     "data": {
      "text/plain": [
       "5.822516976007247"
      ]
     },
     "execution_count": 9,
     "metadata": {},
     "output_type": "execute_result"
    }
   ],
   "source": [
    "variance(l)"
   ]
  },
  {
   "cell_type": "code",
   "execution_count": 10,
   "id": "e41f0fb4",
   "metadata": {},
   "outputs": [
    {
     "data": {
      "text/plain": [
       "2.412989220035441"
      ]
     },
     "execution_count": 10,
     "metadata": {},
     "output_type": "execute_result"
    }
   ],
   "source": [
    "std_dev(l)"
   ]
  },
  {
   "cell_type": "markdown",
   "id": "7ccba1c6",
   "metadata": {},
   "source": [
    "Hypotesis Test"
   ]
  },
  {
   "cell_type": "markdown",
   "id": "d60c6623",
   "metadata": {},
   "source": [
    "H0: mean_sample(intervenction) = mean_pop"
   ]
  },
  {
   "cell_type": "markdown",
   "id": "2be21085",
   "metadata": {},
   "source": [
    "H1: mean_sample(intervention ) != mean_pop"
   ]
  },
  {
   "cell_type": "markdown",
   "id": "71c1dbc5",
   "metadata": {},
   "source": [
    "alpha = 5% = 1.96"
   ]
  },
  {
   "cell_type": "code",
   "execution_count": 11,
   "id": "be323f78",
   "metadata": {},
   "outputs": [],
   "source": [
    "n = 50"
   ]
  },
  {
   "cell_type": "code",
   "execution_count": 12,
   "id": "286dc123",
   "metadata": {},
   "outputs": [
    {
     "data": {
      "text/plain": [
       "0.3412482080834197"
      ]
     },
     "execution_count": 12,
     "metadata": {},
     "output_type": "execute_result"
    }
   ],
   "source": [
    "std_error(l,n)"
   ]
  },
  {
   "cell_type": "code",
   "execution_count": 13,
   "id": "6ba6f0ef",
   "metadata": {},
   "outputs": [],
   "source": [
    "i = 8.3"
   ]
  },
  {
   "cell_type": "code",
   "execution_count": 14,
   "id": "40459359",
   "metadata": {},
   "outputs": [
    {
     "data": {
      "text/plain": [
       "2.4316237107967713"
      ]
     },
     "execution_count": 14,
     "metadata": {},
     "output_type": "execute_result"
    }
   ],
   "source": [
    "z_score(l,n,i)"
   ]
  },
  {
   "cell_type": "code",
   "execution_count": 15,
   "id": "c61725e5",
   "metadata": {},
   "outputs": [],
   "source": [
    "stats.H0_2_tailed??"
   ]
  },
  {
   "cell_type": "code",
   "execution_count": 16,
   "id": "7bdb1f6e",
   "metadata": {},
   "outputs": [
    {
     "name": "stdout",
     "output_type": "stream",
     "text": [
      "H0 hypothesis is rejeceted\n"
     ]
    }
   ],
   "source": [
    "H0_2_tailed(l,n,i,'5%')"
   ]
  }
 ],
 "metadata": {
  "kernelspec": {
   "display_name": "Python 3 (ipykernel)",
   "language": "python",
   "name": "python3"
  },
  "language_info": {
   "codemirror_mode": {
    "name": "ipython",
    "version": 3
   },
   "file_extension": ".py",
   "mimetype": "text/x-python",
   "name": "python",
   "nbconvert_exporter": "python",
   "pygments_lexer": "ipython3",
   "version": "3.10.9"
  }
 },
 "nbformat": 4,
 "nbformat_minor": 5
}
