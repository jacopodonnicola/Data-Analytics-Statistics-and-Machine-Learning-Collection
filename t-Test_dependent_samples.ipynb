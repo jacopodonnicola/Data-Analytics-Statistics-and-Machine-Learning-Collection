{
 "cells": [
  {
   "cell_type": "code",
   "execution_count": 33,
   "id": "12125074",
   "metadata": {},
   "outputs": [],
   "source": [
    "import pandas as pd"
   ]
  },
  {
   "cell_type": "code",
   "execution_count": 35,
   "id": "007c86c9",
   "metadata": {},
   "outputs": [
    {
     "data": {
      "text/html": [
       "<div>\n",
       "<style scoped>\n",
       "    .dataframe tbody tr th:only-of-type {\n",
       "        vertical-align: middle;\n",
       "    }\n",
       "\n",
       "    .dataframe tbody tr th {\n",
       "        vertical-align: top;\n",
       "    }\n",
       "\n",
       "    .dataframe thead th {\n",
       "        text-align: right;\n",
       "    }\n",
       "</style>\n",
       "<table border=\"1\" class=\"dataframe\">\n",
       "  <thead>\n",
       "    <tr style=\"text-align: right;\">\n",
       "      <th></th>\n",
       "      <th>QWERTY errors</th>\n",
       "      <th>Alphabetical errors</th>\n",
       "    </tr>\n",
       "  </thead>\n",
       "  <tbody>\n",
       "    <tr>\n",
       "      <th>0</th>\n",
       "      <td>6</td>\n",
       "      <td>6</td>\n",
       "    </tr>\n",
       "    <tr>\n",
       "      <th>1</th>\n",
       "      <td>6</td>\n",
       "      <td>11</td>\n",
       "    </tr>\n",
       "    <tr>\n",
       "      <th>2</th>\n",
       "      <td>2</td>\n",
       "      <td>8</td>\n",
       "    </tr>\n",
       "    <tr>\n",
       "      <th>3</th>\n",
       "      <td>7</td>\n",
       "      <td>5</td>\n",
       "    </tr>\n",
       "    <tr>\n",
       "      <th>4</th>\n",
       "      <td>8</td>\n",
       "      <td>11</td>\n",
       "    </tr>\n",
       "    <tr>\n",
       "      <th>5</th>\n",
       "      <td>8</td>\n",
       "      <td>8</td>\n",
       "    </tr>\n",
       "    <tr>\n",
       "      <th>6</th>\n",
       "      <td>2</td>\n",
       "      <td>10</td>\n",
       "    </tr>\n",
       "    <tr>\n",
       "      <th>7</th>\n",
       "      <td>3</td>\n",
       "      <td>7</td>\n",
       "    </tr>\n",
       "    <tr>\n",
       "      <th>8</th>\n",
       "      <td>5</td>\n",
       "      <td>4</td>\n",
       "    </tr>\n",
       "    <tr>\n",
       "      <th>9</th>\n",
       "      <td>7</td>\n",
       "      <td>3</td>\n",
       "    </tr>\n",
       "  </tbody>\n",
       "</table>\n",
       "</div>"
      ],
      "text/plain": [
       "   QWERTY errors  Alphabetical errors\n",
       "0              6                    6\n",
       "1              6                   11\n",
       "2              2                    8\n",
       "3              7                    5\n",
       "4              8                   11\n",
       "5              8                    8\n",
       "6              2                   10\n",
       "7              3                    7\n",
       "8              5                    4\n",
       "9              7                    3"
      ]
     },
     "execution_count": 35,
     "metadata": {},
     "output_type": "execute_result"
    }
   ],
   "source": [
    "Keyboards.head(10)"
   ]
  },
  {
   "cell_type": "code",
   "execution_count": 36,
   "id": "773a51c7",
   "metadata": {},
   "outputs": [
    {
     "data": {
      "text/plain": [
       "[6, 6, 2, 7, 8, 8, 2, 3, 5, 7]"
      ]
     },
     "execution_count": 36,
     "metadata": {},
     "output_type": "execute_result"
    }
   ],
   "source": [
    "qwerty_errors_list = Keyboards['QWERTY errors'].tolist()\n",
    "qwerty_errors_list[:10]"
   ]
  },
  {
   "cell_type": "code",
   "execution_count": 37,
   "id": "2f78aece",
   "metadata": {},
   "outputs": [
    {
     "data": {
      "text/plain": [
       "[6, 11, 8, 5, 11, 8, 10, 7, 4, 3]"
      ]
     },
     "execution_count": 37,
     "metadata": {},
     "output_type": "execute_result"
    }
   ],
   "source": [
    "alphabetical_errors_list = Keyboards['Alphabetical errors'].tolist()\n",
    "alphabetical_errors_list[:10]"
   ]
  },
  {
   "cell_type": "code",
   "execution_count": 38,
   "id": "05ced463",
   "metadata": {},
   "outputs": [
    {
     "name": "stdout",
     "output_type": "stream",
     "text": [
      "H0_2_tailed\n",
      "confidence_interval\n",
      "mean\n",
      "std_dev\n",
      "std_dev_t_test\n",
      "std_error\n",
      "std_error_t_test\n",
      "t_test\n",
      "t_test_dependent_samples\n",
      "variance\n",
      "variance_t_test\n",
      "z_score\n"
     ]
    }
   ],
   "source": [
    "import inspect \n",
    "import stats \n",
    "\n",
    "for name, obj in inspect.getmembers(stats):\n",
    "    if inspect.isfunction(obj):\n",
    "        print(name)"
   ]
  },
  {
   "cell_type": "code",
   "execution_count": 39,
   "id": "b33ef5ed",
   "metadata": {},
   "outputs": [],
   "source": [
    "from stats import *"
   ]
  },
  {
   "cell_type": "code",
   "execution_count": 40,
   "id": "a0b9d554",
   "metadata": {},
   "outputs": [
    {
     "data": {
      "text/plain": [
       "5.08"
      ]
     },
     "execution_count": 40,
     "metadata": {},
     "output_type": "execute_result"
    }
   ],
   "source": [
    "mean(qwerty_errors_list)"
   ]
  },
  {
   "cell_type": "code",
   "execution_count": 41,
   "id": "00370f32",
   "metadata": {},
   "outputs": [
    {
     "data": {
      "text/plain": [
       "7.8"
      ]
     },
     "execution_count": 41,
     "metadata": {},
     "output_type": "execute_result"
    }
   ],
   "source": [
    "mean(alphabetical_errors_list)"
   ]
  },
  {
   "cell_type": "markdown",
   "id": "d9469e15",
   "metadata": {},
   "source": [
    "H0: mu_qwerty = mu_alphabetical\n",
    "\n",
    "HA: mu_qwerty != mu_alphabetical"
   ]
  },
  {
   "cell_type": "code",
   "execution_count": 42,
   "id": "b8ea1cb3",
   "metadata": {},
   "outputs": [],
   "source": [
    "n = 25"
   ]
  },
  {
   "cell_type": "code",
   "execution_count": 43,
   "id": "6cfaae42",
   "metadata": {},
   "outputs": [
    {
     "data": {
      "text/plain": [
       "-2.7199999999999998"
      ]
     },
     "execution_count": 43,
     "metadata": {},
     "output_type": "execute_result"
    }
   ],
   "source": [
    "mean(qwerty_errors_list) - mean(alphabetical_errors_list)"
   ]
  },
  {
   "cell_type": "code",
   "execution_count": 44,
   "id": "84879184",
   "metadata": {},
   "outputs": [
    {
     "name": "stdout",
     "output_type": "stream",
     "text": [
      "[0, -5, -6, 2, -3, 0, -8, -4, 1, 4, 3, -1, -6, -3, -1, 2, -6, -6, -11, -3, -2, -7, -3, -4, -1]\n"
     ]
    }
   ],
   "source": [
    "difference_list = []\n",
    "for i,j in zip(qwerty_errors_list,alphabetical_errors_list):\n",
    "    difference_list.append(i-j)\n",
    "    \n",
    "print(difference_list)"
   ]
  },
  {
   "cell_type": "code",
   "execution_count": 45,
   "id": "836e5718",
   "metadata": {},
   "outputs": [
    {
     "data": {
      "text/plain": [
       "-2.72"
      ]
     },
     "execution_count": 45,
     "metadata": {},
     "output_type": "execute_result"
    }
   ],
   "source": [
    "mean(difference_list)"
   ]
  },
  {
   "cell_type": "code",
   "execution_count": 46,
   "id": "9214ffcb",
   "metadata": {},
   "outputs": [
    {
     "data": {
      "text/plain": [
       "13.626666666666665"
      ]
     },
     "execution_count": 46,
     "metadata": {},
     "output_type": "execute_result"
    }
   ],
   "source": [
    "variance_t_test(difference_list)"
   ]
  },
  {
   "cell_type": "code",
   "execution_count": 47,
   "id": "cbc63f0e",
   "metadata": {
    "scrolled": true
   },
   "outputs": [
    {
     "data": {
      "text/plain": [
       "3.6914315199752337"
      ]
     },
     "execution_count": 47,
     "metadata": {},
     "output_type": "execute_result"
    }
   ],
   "source": [
    "std_dev_t_test(difference_list)"
   ]
  },
  {
   "cell_type": "code",
   "execution_count": 48,
   "id": "e531e22d",
   "metadata": {},
   "outputs": [
    {
     "data": {
      "text/plain": [
       "0.7382863039950467"
      ]
     },
     "execution_count": 48,
     "metadata": {},
     "output_type": "execute_result"
    }
   ],
   "source": [
    "std_error_t_test(difference_list,n)"
   ]
  },
  {
   "cell_type": "code",
   "execution_count": 49,
   "id": "7391c101",
   "metadata": {},
   "outputs": [
    {
     "data": {
      "text/plain": [
       "-3.684207583536927"
      ]
     },
     "execution_count": 49,
     "metadata": {},
     "output_type": "execute_result"
    }
   ],
   "source": [
    "t_test_dependent_samples(difference_list,n)"
   ]
  },
  {
   "cell_type": "code",
   "execution_count": 50,
   "id": "ce88a50f",
   "metadata": {},
   "outputs": [
    {
     "data": {
      "text/plain": [
       "-0.7368415167073854"
      ]
     },
     "execution_count": 50,
     "metadata": {},
     "output_type": "execute_result"
    }
   ],
   "source": [
    "Cohen = mean(difference_list) / std_dev_t_test(difference_list)\n",
    "Cohen"
   ]
  },
  {
   "cell_type": "markdown",
   "id": "c83834ed",
   "metadata": {},
   "source": [
    "CI = mean(difference) +/- t_critical x S/sgrt(n) \n",
    "\n",
    "alpha= 5%"
   ]
  },
  {
   "cell_type": "code",
   "execution_count": 51,
   "id": "73a4b77e",
   "metadata": {},
   "outputs": [],
   "source": [
    "t_critical = 2.064"
   ]
  },
  {
   "cell_type": "code",
   "execution_count": 52,
   "id": "36e66829",
   "metadata": {},
   "outputs": [
    {
     "data": {
      "text/plain": [
       "-4.243822931445777"
      ]
     },
     "execution_count": 52,
     "metadata": {},
     "output_type": "execute_result"
    }
   ],
   "source": [
    "lower_bound = mean(difference_list) - t_critical * std_error_t_test(difference_list,n)\n",
    "lower_bound"
   ]
  },
  {
   "cell_type": "code",
   "execution_count": 53,
   "id": "071231b1",
   "metadata": {},
   "outputs": [
    {
     "data": {
      "text/plain": [
       "-1.1961770685542237"
      ]
     },
     "execution_count": 53,
     "metadata": {},
     "output_type": "execute_result"
    }
   ],
   "source": [
    "upper_bound = mean(difference_list) + t_critical * std_error_t_test(difference_list,n)\n",
    "upper_bound"
   ]
  },
  {
   "cell_type": "code",
   "execution_count": 54,
   "id": "85bf10e4",
   "metadata": {},
   "outputs": [
    {
     "data": {
      "text/plain": [
       "(-4.243822931445777, -1.1961770685542237)"
      ]
     },
     "execution_count": 54,
     "metadata": {},
     "output_type": "execute_result"
    }
   ],
   "source": [
    "CI = (lower_bound,upper_bound)\n",
    "CI"
   ]
  },
  {
   "cell_type": "markdown",
   "id": "162aa49e",
   "metadata": {},
   "source": [
    "Conclusion: the users on average, will make around 4 to 1 fewer errors on Qwerty Keyboard than on Alphabetical Keybord"
   ]
  }
 ],
 "metadata": {
  "kernelspec": {
   "display_name": "Python 3 (ipykernel)",
   "language": "python",
   "name": "python3"
  },
  "language_info": {
   "codemirror_mode": {
    "name": "ipython",
    "version": 3
   },
   "file_extension": ".py",
   "mimetype": "text/x-python",
   "name": "python",
   "nbconvert_exporter": "python",
   "pygments_lexer": "ipython3",
   "version": "3.10.9"
  }
 },
 "nbformat": 4,
 "nbformat_minor": 5
}
